{
 "cells": [
  {
   "cell_type": "markdown",
   "metadata": {},
   "source": [
    "### Ejemplo de como usar pd.json_normalize() cuando tienen varios niveles, datos anidados"
   ]
  },
  {
   "cell_type": "code",
   "execution_count": 1,
   "metadata": {},
   "outputs": [],
   "source": [
    "# Cargamos las librerías\n",
    "import json\n",
    "import pandas as pd"
   ]
  },
  {
   "cell_type": "code",
   "execution_count": 2,
   "metadata": {},
   "outputs": [],
   "source": [
    "\n",
    "# Creamos un JSON con varios niveles para el ejemplo\n",
    "json_data = '''\n",
    "{\n",
    "    \"records\": [\n",
    "        {\n",
    "            \"id\": 1,\n",
    "            \"info\": {\n",
    "                \"name\": \"John\",\n",
    "                \"age\": 30,\n",
    "                \"address\": {\n",
    "                    \"city\": \"New York\",\n",
    "                    \"zipcode\": \"10001\",\n",
    "                    \"coordinates\": {\n",
    "                        \"lat\": 40.7128,\n",
    "                        \"lon\": -74.0060\n",
    "                    }\n",
    "                }\n",
    "            },\n",
    "            \"hobbies\": [\"reading\", \"travelling\"]\n",
    "        },\n",
    "        {\n",
    "            \"id\": 2,\n",
    "            \"info\": {\n",
    "                \"name\": \"Anna\",\n",
    "                \"age\": 22,\n",
    "                \"address\": {\n",
    "                    \"city\": \"London\",\n",
    "                    \"zipcode\": \"WC2N\",\n",
    "                    \"coordinates\": {\n",
    "                        \"lat\": 51.5074,\n",
    "                        \"lon\": -0.1278\n",
    "                    }\n",
    "                }\n",
    "            },\n",
    "            \"hobbies\": [\"painting\", \"dancing\"]\n",
    "        }\n",
    "    ]\n",
    "}\n",
    "'''\n"
   ]
  },
  {
   "cell_type": "code",
   "execution_count": 3,
   "metadata": {},
   "outputs": [],
   "source": [
    "# Cargamos el json a una variable\n",
    "data = json.loads(json_data)\n",
    "\n",
    "# Usamos pd.json_normalize para aplanar el JSON\n",
    "df = pd.json_normalize(\n",
    "    data['records'], \n",
    "    sep='_',  # Separador para las claves aplanadas, otra opción es usar espacio\n",
    "    \n",
    "    # Definimos la estructura que queremos aplanar a un nivel para nuestro df\n",
    "    meta=[\n",
    "        'id', \n",
    "        ['info', 'name'], \n",
    "        ['info', 'age'], \n",
    "        ['info', 'address', 'city'], \n",
    "        ['info', 'address', 'zipcode'], \n",
    "        ['info', 'address', 'coordinates', 'lat'], \n",
    "        ['info', 'address', 'coordinates', 'lon']\n",
    "    ]\n",
    ")\n"
   ]
  },
  {
   "cell_type": "code",
   "execution_count": 4,
   "metadata": {},
   "outputs": [
    {
     "data": {
      "text/html": [
       "<div>\n",
       "<style scoped>\n",
       "    .dataframe tbody tr th:only-of-type {\n",
       "        vertical-align: middle;\n",
       "    }\n",
       "\n",
       "    .dataframe tbody tr th {\n",
       "        vertical-align: top;\n",
       "    }\n",
       "\n",
       "    .dataframe thead th {\n",
       "        text-align: right;\n",
       "    }\n",
       "</style>\n",
       "<table border=\"1\" class=\"dataframe\">\n",
       "  <thead>\n",
       "    <tr style=\"text-align: right;\">\n",
       "      <th></th>\n",
       "      <th>id</th>\n",
       "      <th>hobbies</th>\n",
       "      <th>info_name</th>\n",
       "      <th>info_age</th>\n",
       "      <th>info_address_city</th>\n",
       "      <th>info_address_zipcode</th>\n",
       "      <th>info_address_coordinates_lat</th>\n",
       "      <th>info_address_coordinates_lon</th>\n",
       "    </tr>\n",
       "  </thead>\n",
       "  <tbody>\n",
       "    <tr>\n",
       "      <th>0</th>\n",
       "      <td>1</td>\n",
       "      <td>[reading, travelling]</td>\n",
       "      <td>John</td>\n",
       "      <td>30</td>\n",
       "      <td>New York</td>\n",
       "      <td>10001</td>\n",
       "      <td>40.7128</td>\n",
       "      <td>-74.0060</td>\n",
       "    </tr>\n",
       "    <tr>\n",
       "      <th>1</th>\n",
       "      <td>2</td>\n",
       "      <td>[painting, dancing]</td>\n",
       "      <td>Anna</td>\n",
       "      <td>22</td>\n",
       "      <td>London</td>\n",
       "      <td>WC2N</td>\n",
       "      <td>51.5074</td>\n",
       "      <td>-0.1278</td>\n",
       "    </tr>\n",
       "  </tbody>\n",
       "</table>\n",
       "</div>"
      ],
      "text/plain": [
       "   id                hobbies info_name  info_age info_address_city  \\\n",
       "0   1  [reading, travelling]      John        30          New York   \n",
       "1   2    [painting, dancing]      Anna        22            London   \n",
       "\n",
       "  info_address_zipcode  info_address_coordinates_lat  \\\n",
       "0                10001                       40.7128   \n",
       "1                 WC2N                       51.5074   \n",
       "\n",
       "   info_address_coordinates_lon  \n",
       "0                      -74.0060  \n",
       "1                       -0.1278  "
      ]
     },
     "execution_count": 4,
     "metadata": {},
     "output_type": "execute_result"
    }
   ],
   "source": [
    "df"
   ]
  },
  {
   "cell_type": "code",
   "execution_count": null,
   "metadata": {},
   "outputs": [],
   "source": [
    "\n",
    "# Exportamos el df a CSV para guardarlo\n",
    "df.to_csv('ruta_del_archivo.csv', index=False)\n"
   ]
  }
 ],
 "metadata": {
  "kernelspec": {
   "display_name": "Python 3",
   "language": "python",
   "name": "python3"
  },
  "language_info": {
   "codemirror_mode": {
    "name": "ipython",
    "version": 3
   },
   "file_extension": ".py",
   "mimetype": "text/x-python",
   "name": "python",
   "nbconvert_exporter": "python",
   "pygments_lexer": "ipython3",
   "version": "3.10.12"
  }
 },
 "nbformat": 4,
 "nbformat_minor": 2
}
