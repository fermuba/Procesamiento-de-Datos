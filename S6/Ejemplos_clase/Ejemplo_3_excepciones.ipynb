{
  "cells": [
    {
      "cell_type": "markdown",
      "metadata": {
        "id": "view-in-github",
        "colab_type": "text"
      },
      "source": [
        "<a href=\"https://colab.research.google.com/github/fermuba/Procesamiento-de-Datos/blob/main/S6/Ejemplos_clase/Ejemplo_3_excepciones.ipynb\" target=\"_parent\"><img src=\"https://colab.research.google.com/assets/colab-badge.svg\" alt=\"Open In Colab\"/></a>"
      ]
    },
    {
      "cell_type": "markdown",
      "metadata": {
        "id": "-ZhSe01ADXDK"
      },
      "source": [
        "## Ejemplo 3: Excepciones y try except\n",
        "\n",
        "### 1. Objetivos:\n",
        "    - Aprender a usar try except para evitar que las excepciones detengan nuestros programas\n",
        "\n",
        "---\n",
        "    \n",
        "### 2. Desarrollo:"
      ]
    },
    {
      "cell_type": "markdown",
      "metadata": {
        "id": "r1YlPTx6DXDN"
      },
      "source": [
        "Durante el proceso de un programa pueden suceder diferentes tipos de errores, que llamamos `Excepciones`. Una `Excepción` puede suceder en alguno de estos casos, por ejemplo:"
      ]
    },
    {
      "cell_type": "code",
      "execution_count": null,
      "metadata": {
        "colab": {
          "base_uri": "https://localhost:8080/",
          "height": 176
        },
        "id": "KnBThFxNDXDO",
        "outputId": "5ba78c7a-1065-439e-fc88-e2192f23bc57"
      },
      "outputs": [
        {
          "output_type": "error",
          "ename": "IndexError",
          "evalue": "list index out of range",
          "traceback": [
            "\u001b[0;31m---------------------------------------------------------------------------\u001b[0m",
            "\u001b[0;31mIndexError\u001b[0m                                Traceback (most recent call last)",
            "\u001b[0;32m<ipython-input-1-f0bb0e1b4da7>\u001b[0m in \u001b[0;36m<cell line: 3>\u001b[0;34m()\u001b[0m\n\u001b[1;32m      1\u001b[0m \u001b[0mlista_1\u001b[0m \u001b[0;34m=\u001b[0m \u001b[0;34m[\u001b[0m\u001b[0;36m1\u001b[0m\u001b[0;34m,\u001b[0m \u001b[0;36m2\u001b[0m\u001b[0;34m,\u001b[0m \u001b[0;36m3\u001b[0m\u001b[0;34m,\u001b[0m \u001b[0;36m4\u001b[0m\u001b[0;34m,\u001b[0m \u001b[0;36m5\u001b[0m\u001b[0;34m]\u001b[0m\u001b[0;34m\u001b[0m\u001b[0;34m\u001b[0m\u001b[0m\n\u001b[1;32m      2\u001b[0m \u001b[0;34m\u001b[0m\u001b[0m\n\u001b[0;32m----> 3\u001b[0;31m \u001b[0mlista_1\u001b[0m\u001b[0;34m[\u001b[0m\u001b[0;36m10\u001b[0m\u001b[0;34m]\u001b[0m\u001b[0;34m\u001b[0m\u001b[0;34m\u001b[0m\u001b[0m\n\u001b[0m",
            "\u001b[0;31mIndexError\u001b[0m: list index out of range"
          ]
        }
      ],
      "source": [
        "# Creamos una lista de prueba\n",
        "lista_1 = [1, 2, 3, 4, 5]\n",
        "\n",
        "lista_1[10]"
      ]
    },
    {
      "cell_type": "code",
      "execution_count": null,
      "metadata": {
        "colab": {
          "base_uri": "https://localhost:8080/",
          "height": 176
        },
        "id": "fgpNkFy-DXDR",
        "outputId": "f29a2fc4-8748-41dc-a927-9ce95c04d111"
      },
      "outputs": [
        {
          "output_type": "error",
          "ename": "KeyError",
          "evalue": "'z'",
          "traceback": [
            "\u001b[0;31m---------------------------------------------------------------------------\u001b[0m",
            "\u001b[0;31mKeyError\u001b[0m                                  Traceback (most recent call last)",
            "\u001b[0;32m<ipython-input-2-25ba439734b7>\u001b[0m in \u001b[0;36m<cell line: 9>\u001b[0;34m()\u001b[0m\n\u001b[1;32m      7\u001b[0m }\n\u001b[1;32m      8\u001b[0m \u001b[0;34m\u001b[0m\u001b[0m\n\u001b[0;32m----> 9\u001b[0;31m \u001b[0mdict_1\u001b[0m\u001b[0;34m[\u001b[0m\u001b[0;34m'z'\u001b[0m\u001b[0;34m]\u001b[0m\u001b[0;34m\u001b[0m\u001b[0;34m\u001b[0m\u001b[0m\n\u001b[0m",
            "\u001b[0;31mKeyError\u001b[0m: 'z'"
          ]
        }
      ],
      "source": [
        "# Creamos un diccionario y solicitamos un elemento que no existe\n",
        "dict_1 = {\n",
        "    'a': 1,\n",
        "    'b': 2,\n",
        "    'c': 3,\n",
        "    'd': 4\n",
        "}\n",
        "\n",
        "dict_1['z']"
      ]
    },
    {
      "cell_type": "code",
      "execution_count": null,
      "metadata": {
        "colab": {
          "base_uri": "https://localhost:8080/",
          "height": 159
        },
        "id": "UdgoWw_uDXDS",
        "outputId": "fb0292d6-5110-4cdd-f2d0-1537502d72fc"
      },
      "outputs": [
        {
          "output_type": "error",
          "ename": "ValueError",
          "evalue": "invalid literal for int() with base 10: 'Holi'",
          "traceback": [
            "\u001b[0;31m---------------------------------------------------------------------------\u001b[0m",
            "\u001b[0;31mValueError\u001b[0m                                Traceback (most recent call last)",
            "\u001b[0;32m<ipython-input-3-dcee050c6fb8>\u001b[0m in \u001b[0;36m<cell line: 2>\u001b[0;34m()\u001b[0m\n\u001b[1;32m      1\u001b[0m \u001b[0;31m# Conversion incorrecta\u001b[0m\u001b[0;34m\u001b[0m\u001b[0;34m\u001b[0m\u001b[0m\n\u001b[0;32m----> 2\u001b[0;31m \u001b[0mint\u001b[0m\u001b[0;34m(\u001b[0m\u001b[0;34m\"Holi\"\u001b[0m\u001b[0;34m)\u001b[0m\u001b[0;34m\u001b[0m\u001b[0;34m\u001b[0m\u001b[0m\n\u001b[0m",
            "\u001b[0;31mValueError\u001b[0m: invalid literal for int() with base 10: 'Holi'"
          ]
        }
      ],
      "source": [
        "# Conversion incorrecta\n",
        "int(\"Holi\")"
      ]
    },
    {
      "cell_type": "markdown",
      "metadata": {
        "id": "WJ4BwEbMDXDS"
      },
      "source": [
        "Cuando automatizamos programas, tenemos que evitar que Excepciones ocurran, pues detendrían nuestro programa y arruinarían nuestra automatización. Podemos usar estructuras try except para evitar que esto suceda:"
      ]
    },
    {
      "cell_type": "code",
      "execution_count": null,
      "metadata": {
        "colab": {
          "base_uri": "https://localhost:8080/"
        },
        "id": "7gaewN07DXDT",
        "outputId": "28bdbd94-fe4f-47f3-bfa0-f1990fd5ec84"
      },
      "outputs": [
        {
          "output_type": "stream",
          "name": "stdout",
          "text": [
            "Ese numero esta fuera de rango\n",
            "Mejor leamos este número\n",
            "3\n"
          ]
        }
      ],
      "source": [
        "lista_2 = [1, 2, 3, 4, 5]\n",
        "\n",
        "try:\n",
        "    print(lista_2[10])\n",
        "except:\n",
        "    print(\"Ese numero esta fuera de rango\")\n",
        "    print(\"Mejor leamos este número\")\n",
        "    print(lista_2[2])"
      ]
    },
    {
      "cell_type": "code",
      "execution_count": null,
      "metadata": {
        "colab": {
          "base_uri": "https://localhost:8080/"
        },
        "id": "9AavRWQyDXDT",
        "outputId": "b7aa2006-a79d-4edf-e632-136bc91673eb"
      },
      "outputs": [
        {
          "output_type": "stream",
          "name": "stdout",
          "text": [
            "Esa llave no existe\n",
            "Mejor leamos esta llave\n",
            "2\n"
          ]
        }
      ],
      "source": [
        "dict_2 = {\n",
        "    'a': 1,\n",
        "    'b': 2,\n",
        "    'c': 3,\n",
        "    'd': 4\n",
        "}\n",
        "\n",
        "try:\n",
        "    print(dict_2['z'])\n",
        "except:\n",
        "    print(\"Esa llave no existe\")\n",
        "    print(\"Mejor leamos esta llave\")\n",
        "    print(dict_2['b'])"
      ]
    },
    {
      "cell_type": "code",
      "execution_count": null,
      "metadata": {
        "colab": {
          "base_uri": "https://localhost:8080/"
        },
        "id": "FpuA1PMqDXDU",
        "outputId": "3144fc5b-9501-42fb-b445-9b405c1e0979"
      },
      "outputs": [
        {
          "output_type": "stream",
          "name": "stdout",
          "text": [
            "Ese no es un número\n",
            "Mejor vamos a imprimirlo convirtiéndolo en una lista\n",
            "['H', 'o', 'l', 'i']\n"
          ]
        }
      ],
      "source": [
        "try:\n",
        "    print(int(\"Holi\"))\n",
        "except:\n",
        "    print(\"Ese no es un número\")\n",
        "    print(\"Mejor vamos a imprimirlo convirtiéndolo en una lista\")\n",
        "    print(list(\"Holi\"))"
      ]
    },
    {
      "cell_type": "code",
      "execution_count": null,
      "metadata": {
        "id": "ao0N5LmgDXDU"
      },
      "outputs": [],
      "source": []
    }
  ],
  "metadata": {
    "kernelspec": {
      "display_name": "Python (data_science)",
      "language": "python",
      "name": "data_science"
    },
    "language_info": {
      "codemirror_mode": {
        "name": "ipython",
        "version": 3
      },
      "file_extension": ".py",
      "mimetype": "text/x-python",
      "name": "python",
      "nbconvert_exporter": "python",
      "pygments_lexer": "ipython3",
      "version": "3.8.1"
    },
    "colab": {
      "provenance": [],
      "include_colab_link": true
    }
  },
  "nbformat": 4,
  "nbformat_minor": 0
}