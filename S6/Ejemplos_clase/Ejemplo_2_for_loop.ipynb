{
  "cells": [
    {
      "cell_type": "markdown",
      "metadata": {
        "id": "view-in-github",
        "colab_type": "text"
      },
      "source": [
        "<a href=\"https://colab.research.google.com/github/fermuba/Procesamiento-de-Datos/blob/main/S6/Ejemplos_clase/Ejemplo_2_for_loop.ipynb\" target=\"_parent\"><img src=\"https://colab.research.google.com/assets/colab-badge.svg\" alt=\"Open In Colab\"/></a>"
      ]
    },
    {
      "cell_type": "markdown",
      "metadata": {
        "id": "uDJFBKkqAf9c"
      },
      "source": [
        "## Ejemplo 2: For Loops\n",
        "\n",
        "### 1. Objetivos:\n",
        "    - Aprender a usar `for loops` para luego poder automatizar procesos\n",
        "\n",
        "---\n",
        "    \n",
        "### 2. Desarrollo:"
      ]
    },
    {
      "cell_type": "markdown",
      "metadata": {
        "id": "YWhZQLhQAf9f"
      },
      "source": [
        "Los `for loops` nos ayudan a automatizar procesos. Básicamente definimos primero sobre qué queremos iterar (o ciclar), después definimos una variable (o variables) que van a recibir cada valor de la iteración, y luego tenemos el bloque del `for loop`, que es donde realizamos los procesos a automatizar. Mira cómo se ven en acción:"
      ]
    },
    {
      "cell_type": "code",
      "execution_count": null,
      "metadata": {
        "colab": {
          "base_uri": "https://localhost:8080/"
        },
        "id": "HfsUoZdRAf9g",
        "outputId": "30e070e5-029b-45c4-f203-d06052f86732"
      },
      "outputs": [
        {
          "output_type": "stream",
          "name": "stdout",
          "text": [
            "0\n",
            "1\n",
            "2\n",
            "3\n",
            "4\n",
            "5\n",
            "6\n",
            "7\n",
            "8\n",
            "9\n"
          ]
        }
      ],
      "source": [
        "# Vamos a ver el uso de range(inicio, fin)\n",
        "for i in range(0, 10):\n",
        "    print(i)"
      ]
    },
    {
      "cell_type": "code",
      "execution_count": null,
      "metadata": {
        "colab": {
          "base_uri": "https://localhost:8080/"
        },
        "id": "ECVhs5_8Af9i",
        "outputId": "3eddd02c-ee5c-4a2f-fd22-c951689d2641"
      },
      "outputs": [
        {
          "output_type": "stream",
          "name": "stdout",
          "text": [
            "[0, 1, 2, 3, 4, 5, 6, 7, 8, 9, 10, 11, 12, 13, 14, 15, 16, 17, 18, 19, 20, 21, 22, 23, 24, 25, 26, 27, 28, 29, 30, 31, 32, 33, 34, 35, 36, 37, 38, 39, 40, 41, 42, 43, 44, 45, 46, 47, 48, 49]\n"
          ]
        }
      ],
      "source": [
        "# Cargar una lista de numeros\n",
        "lista_de_numeros = []\n",
        "\n",
        "for i in range(0, 50):\n",
        "    lista_de_numeros.append(i)\n",
        "\n",
        "print(lista_de_numeros)"
      ]
    },
    {
      "cell_type": "code",
      "execution_count": null,
      "metadata": {
        "colab": {
          "base_uri": "https://localhost:8080/"
        },
        "id": "QvhZxHSgAf9j",
        "outputId": "0941871f-151c-45f2-a5c4-d4c9c07cb10c"
      },
      "outputs": [
        {
          "output_type": "stream",
          "name": "stdout",
          "text": [
            "170\n"
          ]
        }
      ],
      "source": [
        "numero = 150\n",
        "\n",
        "for _ in range(0, 20):\n",
        "\n",
        "    # este proceso es independiente del loop, por eso no usamos la variable del loop\n",
        "    # en este caso el loop solo sirve para realizar una tarea repetidas veces\n",
        "\n",
        "    numero = numero + 1\n",
        "\n",
        "print(numero)"
      ]
    },
    {
      "cell_type": "code",
      "execution_count": null,
      "metadata": {
        "colab": {
          "base_uri": "https://localhost:8080/"
        },
        "id": "28a2YA61Af9j",
        "outputId": "350f3984-93e4-45e0-d3dd-34e964b7f2d3"
      },
      "outputs": [
        {
          "output_type": "stream",
          "name": "stdout",
          "text": [
            "1\n",
            "2\n",
            "3\n",
            "4\n",
            "5\n"
          ]
        }
      ],
      "source": [
        "# Creacion de un diccionario\n",
        "dict_1 = {\n",
        "    'a': 1,\n",
        "    'b': 2,\n",
        "    'c': 3,\n",
        "    'd': 4,\n",
        "    'e': 5\n",
        "}\n",
        "\n",
        "# Imprimir el contenido del diccionario\n",
        "for key in dict_1:\n",
        "    print(dict_1[key])"
      ]
    }
  ],
  "metadata": {
    "kernelspec": {
      "display_name": "Python (data_science)",
      "language": "python",
      "name": "data_science"
    },
    "language_info": {
      "codemirror_mode": {
        "name": "ipython",
        "version": 3
      },
      "file_extension": ".py",
      "mimetype": "text/x-python",
      "name": "python",
      "nbconvert_exporter": "python",
      "pygments_lexer": "ipython3",
      "version": "3.8.1"
    },
    "colab": {
      "provenance": [],
      "include_colab_link": true
    }
  },
  "nbformat": 4,
  "nbformat_minor": 0
}