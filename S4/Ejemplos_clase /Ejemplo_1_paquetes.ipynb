{
  "cells": [
    {
      "cell_type": "markdown",
      "metadata": {
        "id": "view-in-github",
        "colab_type": "text"
      },
      "source": [
        "<a href=\"https://colab.research.google.com/github/fermuba/Procesamiento-de-Datos/blob/main/S4/Ejemplos_clase%20/Ejemplo_1_paquetes.ipynb\" target=\"_parent\"><img src=\"https://colab.research.google.com/assets/colab-badge.svg\" alt=\"Open In Colab\"/></a>"
      ]
    },
    {
      "cell_type": "markdown",
      "metadata": {
        "id": "EmSUpdsuqKoS"
      },
      "source": [
        "## Ejemplo 1: Paquetes\n",
        "\n",
        "### 1. Objetivos:\n",
        "    - Aprender la sintaxis de la importación de paquetes para utilizarla a lo largo del módulo\n",
        "\n",
        "---\n",
        "    \n",
        "### 2. Desarrollo:"
      ]
    },
    {
      "cell_type": "markdown",
      "metadata": {
        "id": "GDI30v6HqKoW"
      },
      "source": [
        "Antes de importar paquetes hay que instalarlos en nuestra computadora. Esto se puede hacer de dos maneras:\n",
        "\n",
        "1. Yendo a nuestra terminal y usando el comando `pip install nombre_del_paquete`\n",
        "2. Corriendo código como el siguiente desde nuestro Jupyter Notebook"
      ]
    },
    {
      "cell_type": "code",
      "execution_count": null,
      "metadata": {
        "id": "fXx1rtNnqKoW"
      },
      "outputs": [],
      "source": [
        "#!pip install nombre_del_paquete"
      ]
    },
    {
      "cell_type": "code",
      "source": [
        "!pip install pandas"
      ],
      "metadata": {
        "colab": {
          "base_uri": "https://localhost:8080/"
        },
        "id": "ve1Qc3io9DSM",
        "outputId": "69dc6659-e737-4400-fd86-bb5eb83598cc"
      },
      "execution_count": null,
      "outputs": [
        {
          "output_type": "stream",
          "name": "stdout",
          "text": [
            "Requirement already satisfied: pandas in /usr/local/lib/python3.10/dist-packages (2.0.3)\n",
            "Requirement already satisfied: python-dateutil>=2.8.2 in /usr/local/lib/python3.10/dist-packages (from pandas) (2.8.2)\n",
            "Requirement already satisfied: pytz>=2020.1 in /usr/local/lib/python3.10/dist-packages (from pandas) (2023.4)\n",
            "Requirement already satisfied: tzdata>=2022.1 in /usr/local/lib/python3.10/dist-packages (from pandas) (2024.1)\n",
            "Requirement already satisfied: numpy>=1.21.0 in /usr/local/lib/python3.10/dist-packages (from pandas) (1.25.2)\n",
            "Requirement already satisfied: six>=1.5 in /usr/local/lib/python3.10/dist-packages (from python-dateutil>=2.8.2->pandas) (1.16.0)\n"
          ]
        }
      ]
    },
    {
      "cell_type": "markdown",
      "metadata": {
        "id": "Cx9HrsQMqKoX"
      },
      "source": [
        "El código anterior está comentado porque correrlo va a causar un error, dado que `nombre_del_paquete` no es un paquete real.\n",
        "\n",
        "Vayamos a la terminal e instalemos nuestro primer paquete, `Pandas`:\n",
        "\n",
        "`pip install pandas`"
      ]
    },
    {
      "cell_type": "markdown",
      "metadata": {
        "id": "Qx4Ai5-lqKoY"
      },
      "source": [
        "Ahora podemos importarlo a nuestro código:"
      ]
    },
    {
      "cell_type": "code",
      "execution_count": null,
      "metadata": {
        "id": "bjKLBq1WqKoY"
      },
      "outputs": [],
      "source": [
        "import pandas"
      ]
    },
    {
      "cell_type": "code",
      "source": [
        "pd.Series()"
      ],
      "metadata": {
        "colab": {
          "base_uri": "https://localhost:8080/"
        },
        "id": "gvO1gMHx9XTQ",
        "outputId": "dbe8a64d-0d07-4d29-c32f-bfef040160bf"
      },
      "execution_count": null,
      "outputs": [
        {
          "output_type": "execute_result",
          "data": {
            "text/plain": [
              "Series([], dtype: object)"
            ]
          },
          "metadata": {},
          "execution_count": 4
        }
      ]
    },
    {
      "cell_type": "markdown",
      "metadata": {
        "id": "VYFe-Ji6qKoY"
      },
      "source": [
        "Es posible ponerle un \"alias\" al nombre de nuestro paquete, de manera que haya que escribir menos para usarlo:"
      ]
    },
    {
      "cell_type": "code",
      "execution_count": null,
      "metadata": {
        "id": "AfK4xWXsqKoZ"
      },
      "outputs": [],
      "source": [
        "import pandas as pd"
      ]
    },
    {
      "cell_type": "markdown",
      "metadata": {
        "id": "NpFQpD-7qKoZ"
      },
      "source": [
        "Para usar un módulo incluido en un paquete, basta con usar la sintaxis `nombre_de_paquete.nombre_de_modulo`. En esta sesión usaremos los siguientes dos módulos de `pandas`:"
      ]
    },
    {
      "cell_type": "code",
      "execution_count": null,
      "metadata": {
        "id": "MyPx3o0cqKoZ",
        "outputId": "6c1f8480-818f-49f0-9264-227fa2de706e"
      },
      "outputs": [
        {
          "data": {
            "text/plain": [
              "pandas.core.series.Series"
            ]
          },
          "execution_count": 5,
          "metadata": {},
          "output_type": "execute_result"
        }
      ],
      "source": [
        "pd.Series"
      ]
    },
    {
      "cell_type": "code",
      "execution_count": null,
      "metadata": {
        "id": "Dgj5CG1KqKoa",
        "outputId": "4ebca034-b6dc-4db2-deac-734b61826e12"
      },
      "outputs": [
        {
          "data": {
            "text/plain": [
              "pandas.core.frame.DataFrame"
            ]
          },
          "execution_count": 6,
          "metadata": {},
          "output_type": "execute_result"
        }
      ],
      "source": [
        "pd.DataFrame"
      ]
    }
  ],
  "metadata": {
    "kernelspec": {
      "display_name": "Python (data_science)",
      "language": "python",
      "name": "data_science"
    },
    "language_info": {
      "codemirror_mode": {
        "name": "ipython",
        "version": 3
      },
      "file_extension": ".py",
      "mimetype": "text/x-python",
      "name": "python",
      "nbconvert_exporter": "python",
      "pygments_lexer": "ipython3",
      "version": "3.8.1"
    },
    "colab": {
      "provenance": [],
      "include_colab_link": true
    }
  },
  "nbformat": 4,
  "nbformat_minor": 0
}