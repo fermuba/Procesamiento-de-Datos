{
  "cells": [
    {
      "cell_type": "markdown",
      "metadata": {
        "id": "view-in-github",
        "colab_type": "text"
      },
      "source": [
        "<a href=\"https://colab.research.google.com/github/fermuba/Procesamiento-de-Datos/blob/main/S4/Ejemplos_clase%20/Ejemplo_3_indexacion_de_series.ipynb\" target=\"_parent\"><img src=\"https://colab.research.google.com/assets/colab-badge.svg\" alt=\"Open In Colab\"/></a>"
      ]
    },
    {
      "cell_type": "markdown",
      "metadata": {
        "id": "804Etq8JKdYX"
      },
      "source": [
        "## Ejemplo 3: Indexación de Series\n",
        "\n",
        "### 1. Objetivos:\n",
        "    - Aprender métodos avanzados de indexación de `Series`\n",
        "\n",
        "---\n",
        "    \n",
        "### 2. Desarrollo:"
      ]
    },
    {
      "cell_type": "code",
      "execution_count": null,
      "metadata": {
        "id": "RhemT8nkKdYd"
      },
      "outputs": [],
      "source": [
        "# Cargamos librerias\n",
        "import pandas as pd"
      ]
    },
    {
      "cell_type": "markdown",
      "metadata": {
        "id": "R3zrYGrMKdYf"
      },
      "source": [
        "> **Nota**: Algunas de las siguientes técnicas también son posibles en `listas`"
      ]
    },
    {
      "cell_type": "markdown",
      "metadata": {
        "id": "QNo3hbSmKdYg"
      },
      "source": [
        "Las `Series` nos permiten muchas más maneras de acceder a sus datos que vuelven a su sistema de indexación sumamente flexible. Veamos algunas de ellas:"
      ]
    },
    {
      "cell_type": "code",
      "execution_count": null,
      "metadata": {
        "colab": {
          "base_uri": "https://localhost:8080/"
        },
        "id": "Ja7gMc5gKdYg",
        "outputId": "ae8087ee-93cb-42b1-b89e-c945765ca942"
      },
      "outputs": [
        {
          "output_type": "execute_result",
          "data": {
            "text/plain": [
              "0    a\n",
              "1    b\n",
              "2    c\n",
              "3    d\n",
              "4    e\n",
              "5    f\n",
              "6    g\n",
              "7    h\n",
              "8    i\n",
              "dtype: object"
            ]
          },
          "metadata": {},
          "execution_count": 2
        }
      ],
      "source": [
        "serie = pd.Series(['a', 'b', 'c', 'd', 'e', 'f', 'g', 'h', 'i'])\n",
        "\n",
        "serie"
      ]
    },
    {
      "cell_type": "markdown",
      "metadata": {
        "id": "uOMrMrbJKdYh"
      },
      "source": [
        "Podemos pedir más de un elemento al mismo tiempo pasando una lista de índices:"
      ]
    },
    {
      "cell_type": "code",
      "execution_count": null,
      "metadata": {
        "colab": {
          "base_uri": "https://localhost:8080/"
        },
        "id": "TzDOdayWKdYi",
        "outputId": "9a4c070c-6b09-43c4-9ef0-55c451e7a6a1"
      },
      "outputs": [
        {
          "output_type": "execute_result",
          "data": {
            "text/plain": [
              "0    a\n",
              "1    b\n",
              "2    c\n",
              "dtype: object"
            ]
          },
          "metadata": {},
          "execution_count": 5
        }
      ],
      "source": [
        "# Seleccion de varios elementos\n",
        "serie.loc[[0, 1, 2]]"
      ]
    },
    {
      "cell_type": "markdown",
      "metadata": {
        "id": "3TfowDBzKdYi"
      },
      "source": [
        "Los elementos serán regresados en el orden en el que los pedimos:"
      ]
    },
    {
      "cell_type": "code",
      "execution_count": null,
      "metadata": {
        "colab": {
          "base_uri": "https://localhost:8080/"
        },
        "id": "kXfR1cytKdYi",
        "outputId": "4fbb145d-6e3d-44d3-81ae-f2425b9b8dd1"
      },
      "outputs": [
        {
          "output_type": "execute_result",
          "data": {
            "text/plain": [
              "5    f\n",
              "8    i\n",
              "2    c\n",
              "4    e\n",
              "dtype: object"
            ]
          },
          "metadata": {},
          "execution_count": 6
        }
      ],
      "source": [
        "# Seleccion con un orden definido por nosotros\n",
        "serie.loc[[5, 8, 2, 4]]"
      ]
    },
    {
      "cell_type": "markdown",
      "metadata": {
        "id": "fH1nmUCJKdYi"
      },
      "source": [
        "Podemos pedir \"desde el principio hasta el índice x\" o \"desde el índice x hasta el final\" de esta manera:"
      ]
    },
    {
      "cell_type": "code",
      "execution_count": null,
      "metadata": {
        "colab": {
          "base_uri": "https://localhost:8080/"
        },
        "id": "G0dKClWmKdYi",
        "outputId": "4742c9f8-3c3f-427a-d3ad-b2b8c69cd01b"
      },
      "outputs": [
        {
          "output_type": "execute_result",
          "data": {
            "text/plain": [
              "0    a\n",
              "1    b\n",
              "2    c\n",
              "3    d\n",
              "4    e\n",
              "dtype: object"
            ]
          },
          "metadata": {},
          "execution_count": 7
        }
      ],
      "source": [
        "# Uso de operador slice o : usando [inicio:fin]\n",
        "serie.loc[:4]"
      ]
    },
    {
      "cell_type": "code",
      "execution_count": null,
      "metadata": {
        "colab": {
          "base_uri": "https://localhost:8080/"
        },
        "id": "EOUwjcExKdYj",
        "outputId": "74bde514-73fc-4823-d430-96733053ceeb"
      },
      "outputs": [
        {
          "output_type": "execute_result",
          "data": {
            "text/plain": [
              "6    g\n",
              "7    h\n",
              "8    i\n",
              "dtype: object"
            ]
          },
          "metadata": {},
          "execution_count": 8
        }
      ],
      "source": [
        "# Uso de operador slice o : usando [inicio:fin]\n",
        "serie.loc[6:]"
      ]
    },
    {
      "cell_type": "markdown",
      "metadata": {
        "id": "qGljIUjnKdYj"
      },
      "source": [
        "Podemos pedir incluso rangos:"
      ]
    },
    {
      "cell_type": "code",
      "execution_count": null,
      "metadata": {
        "colab": {
          "base_uri": "https://localhost:8080/"
        },
        "id": "sSXmRAtaKdYk",
        "outputId": "271315fc-99e2-4387-9972-5c2d48af3d79"
      },
      "outputs": [
        {
          "output_type": "execute_result",
          "data": {
            "text/plain": [
              "3    d\n",
              "4    e\n",
              "5    f\n",
              "6    g\n",
              "dtype: object"
            ]
          },
          "metadata": {},
          "execution_count": 10
        }
      ],
      "source": [
        "# Uso de operador slice o : usando [inicio:fin] para un intervalo\n",
        "\n",
        "serie.loc[3:6]"
      ]
    },
    {
      "cell_type": "markdown",
      "metadata": {
        "id": "1XIFe8V_KdYk"
      },
      "source": [
        "También podemos usar rangos cuando nuestro índice no es numérico:"
      ]
    },
    {
      "cell_type": "code",
      "execution_count": null,
      "metadata": {
        "colab": {
          "base_uri": "https://localhost:8080/"
        },
        "id": "fsU5l6s2KdYk",
        "outputId": "1f9d4556-9421-4184-fb38-bed851c7df21"
      },
      "outputs": [
        {
          "output_type": "execute_result",
          "data": {
            "text/plain": [
              "a    1\n",
              "b    2\n",
              "c    3\n",
              "d    4\n",
              "e    5\n",
              "f    6\n",
              "g    7\n",
              "h    8\n",
              "dtype: int64"
            ]
          },
          "metadata": {},
          "execution_count": 11
        }
      ],
      "source": [
        "serie_2 = pd.Series([1, 2, 3, 4, 5, 6, 7, 8], index=['a', 'b', 'c', 'd', 'e', 'f', 'g', 'h'])\n",
        "\n",
        "serie_2"
      ]
    },
    {
      "cell_type": "code",
      "execution_count": null,
      "metadata": {
        "colab": {
          "base_uri": "https://localhost:8080/"
        },
        "id": "O4g7nNN1KdYk",
        "outputId": "9f86284d-8005-4a19-e763-f37d67ebab4b"
      },
      "outputs": [
        {
          "output_type": "execute_result",
          "data": {
            "text/plain": [
              "c    3\n",
              "d    4\n",
              "e    5\n",
              "f    6\n",
              "dtype: int64"
            ]
          },
          "metadata": {},
          "execution_count": 12
        }
      ],
      "source": [
        "serie_2.loc['c':'f']"
      ]
    },
    {
      "cell_type": "markdown",
      "metadata": {
        "id": "M4A6BIRgKdYk"
      },
      "source": [
        "Vamos a practicar esto para que quede más claro."
      ]
    },
    {
      "cell_type": "code",
      "source": [
        "serie"
      ],
      "metadata": {
        "colab": {
          "base_uri": "https://localhost:8080/"
        },
        "id": "LFdhpCaFMAFs",
        "outputId": "9cf97f6d-cfe7-48e5-92a0-c06d9e276954"
      },
      "execution_count": null,
      "outputs": [
        {
          "output_type": "execute_result",
          "data": {
            "text/plain": [
              "0    a\n",
              "1    b\n",
              "2    c\n",
              "3    d\n",
              "4    e\n",
              "5    f\n",
              "6    g\n",
              "7    h\n",
              "8    i\n",
              "dtype: object"
            ]
          },
          "metadata": {},
          "execution_count": 13
        }
      ]
    },
    {
      "cell_type": "code",
      "source": [
        "# Uso de el operador : de la forma [inicio:fin:paso]\n",
        "serie.loc[1:6:2]"
      ],
      "metadata": {
        "colab": {
          "base_uri": "https://localhost:8080/"
        },
        "id": "oUWOkXIGMFAN",
        "outputId": "ab796311-a8de-4d04-ad40-904a85b62a0e"
      },
      "execution_count": null,
      "outputs": [
        {
          "output_type": "execute_result",
          "data": {
            "text/plain": [
              "1    b\n",
              "3    d\n",
              "5    f\n",
              "dtype: object"
            ]
          },
          "metadata": {},
          "execution_count": 14
        }
      ]
    }
  ],
  "metadata": {
    "kernelspec": {
      "display_name": "Python (data_science)",
      "language": "python",
      "name": "data_science"
    },
    "language_info": {
      "codemirror_mode": {
        "name": "ipython",
        "version": 3
      },
      "file_extension": ".py",
      "mimetype": "text/x-python",
      "name": "python",
      "nbconvert_exporter": "python",
      "pygments_lexer": "ipython3",
      "version": "3.8.5"
    },
    "colab": {
      "provenance": [],
      "include_colab_link": true
    }
  },
  "nbformat": 4,
  "nbformat_minor": 0
}