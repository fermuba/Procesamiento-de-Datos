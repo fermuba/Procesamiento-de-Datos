{
  "cells": [
    {
      "cell_type": "markdown",
      "metadata": {
        "id": "view-in-github",
        "colab_type": "text"
      },
      "source": [
        "<a href=\"https://colab.research.google.com/github/fermuba/Procesamiento-de-Datos/blob/main/S4/Ejemplos_clase%20/Ejemplo_2_series.ipynb\" target=\"_parent\"><img src=\"https://colab.research.google.com/assets/colab-badge.svg\" alt=\"Open In Colab\"/></a>"
      ]
    },
    {
      "cell_type": "markdown",
      "metadata": {
        "id": "gJMAjaE392YT"
      },
      "source": [
        "## Ejemplo 2: Series\n",
        "\n",
        "### 1. Objetivos:\n",
        "    - Entender qué son las `Series`\n",
        "    - Aprender a crear `Series` de pandas\n",
        "    - Aprender los métodos básicos de indexación de las `Series`\n",
        "\n",
        "---\n",
        "    \n",
        "### 2. Desarrollo:"
      ]
    },
    {
      "cell_type": "code",
      "execution_count": null,
      "metadata": {
        "id": "aYo--9YW92Yb"
      },
      "outputs": [],
      "source": [
        "# Cargar librerias\n",
        "import pandas as pd # as reemplaza el nombre de llamado de la libreria\n"
      ]
    },
    {
      "cell_type": "markdown",
      "metadata": {
        "id": "T77k6qAp92Yf"
      },
      "source": [
        "Las `Series` son secuencias ordenadas de unidimensionales que pueden contener diferentes tipos de valores. En esto se parecen a las `listas`. De hecho podemos crear `Series` usando `listas`."
      ]
    },
    {
      "cell_type": "code",
      "execution_count": null,
      "metadata": {
        "id": "FM8dUrDc92Yg"
      },
      "outputs": [],
      "source": [
        "# Creo una lista\n",
        "lista = [3, 7, 9, 8]\n",
        "\n",
        "# Creacion de una Serie desde una lista\n",
        "serie_1 = pd.Series(lista)"
      ]
    },
    {
      "cell_type": "markdown",
      "metadata": {
        "id": "wr-jIr2S92Yh"
      },
      "source": [
        "Una gran diferencia que tienen con las `listas` es que cada elemento en una `Serie` tiene un índice asociado que no necesariamente es una secuencia de enteros como en las `listas`. En este aspecto, nuestras `Series` se parecen a los `diccionarios`:"
      ]
    },
    {
      "cell_type": "code",
      "source": [
        "# Contenido de la lista\n",
        "lista"
      ],
      "metadata": {
        "colab": {
          "base_uri": "https://localhost:8080/"
        },
        "id": "OEz3ve7P_Kr5",
        "outputId": "9d19ee46-5963-41bb-e955-87c9f3513d75"
      },
      "execution_count": null,
      "outputs": [
        {
          "output_type": "execute_result",
          "data": {
            "text/plain": [
              "[3, 7, 9, 8]"
            ]
          },
          "metadata": {},
          "execution_count": 4
        }
      ]
    },
    {
      "cell_type": "code",
      "execution_count": null,
      "metadata": {
        "colab": {
          "base_uri": "https://localhost:8080/"
        },
        "id": "OEc7XJCq92Yh",
        "outputId": "caecdba2-42ad-4161-be1b-e023ec590ca0"
      },
      "outputs": [
        {
          "output_type": "execute_result",
          "data": {
            "text/plain": [
              "0    3\n",
              "1    7\n",
              "2    9\n",
              "3    8\n",
              "dtype: int64"
            ]
          },
          "metadata": {},
          "execution_count": 5
        }
      ],
      "source": [
        "# Contenido de la Serie de pandas\n",
        "serie_1"
      ]
    },
    {
      "cell_type": "markdown",
      "metadata": {
        "id": "-cO7A4zQ92Yj"
      },
      "source": [
        "La columna de la izquierda es nuestro índice, la columna de la derecha son los datos almacenados en la `Serie`. El texto en la parte inferior es el tipo de dato que tenemos en nuestra `Serie`.\n",
        "\n",
        "Los tipos de datos más comunes que podemos encontrar son:\n",
        "\n",
        "1. `int64`: Equivalente a `int`\n",
        "2. `float64`: Equivalente a `float`\n",
        "3. `bool`: Equivalente a `bool` (duh)\n",
        "4. `object`: Equivalente a `str`, o indica que hay una mezcla de tipos de datos numéricos y no-numéricos en la `Serie`\n",
        "\n",
        "> **Importante**: Tener `Series` que contengan diversos tipos de datos es una **muy mala** práctica. Lo recomendable es siempre tener homogeneidad de tipos de dato en cada `Serie` que tengamos. De todas maneras, se encontrarán por ahí algunos conjuntos de datos que contienen `Series` con tipos de datos diversos. Es por eso que cuando nos topemos con un tipo de dato `obj` tenemos que ser cuidadosos y no asumir automáticamente que el tipo de dato incluido son `strings`."
      ]
    },
    {
      "cell_type": "markdown",
      "metadata": {
        "id": "snwS1nsr92Yk"
      },
      "source": [
        "Podemos crear `Series` con un índice customizado:"
      ]
    },
    {
      "cell_type": "code",
      "execution_count": null,
      "metadata": {
        "colab": {
          "base_uri": "https://localhost:8080/"
        },
        "id": "iy9cBHCZ92Yl",
        "outputId": "c099141c-fbff-4526-affa-1208a31738c9"
      },
      "outputs": [
        {
          "output_type": "execute_result",
          "data": {
            "text/plain": [
              "10    4\n",
              "11    7\n",
              "12    9\n",
              "13    8\n",
              "dtype: int64"
            ]
          },
          "metadata": {},
          "execution_count": 6
        }
      ],
      "source": [
        "serie_2 = pd.Series([4, 7, 9, 8], index=[10, 11, 12, 13])\n",
        "\n",
        "serie_2"
      ]
    },
    {
      "cell_type": "markdown",
      "metadata": {
        "id": "r87GU2_492Yl"
      },
      "source": [
        "Incluso podemos usar `strings` en el índice:"
      ]
    },
    {
      "cell_type": "code",
      "execution_count": null,
      "metadata": {
        "colab": {
          "base_uri": "https://localhost:8080/"
        },
        "id": "dgUkW2eo92Yl",
        "outputId": "18ef3fe4-73fe-45f9-d968-765678137772"
      },
      "outputs": [
        {
          "output_type": "execute_result",
          "data": {
            "text/plain": [
              "a    5\n",
              "b    8\n",
              "c    7\n",
              "d    2\n",
              "dtype: int64"
            ]
          },
          "metadata": {},
          "execution_count": 9
        }
      ],
      "source": [
        "serie_3 = pd.Series([5, 8, 7, 2], index=['a', 'b', 'c', 'd'])\n",
        "\n",
        "serie_3"
      ]
    },
    {
      "cell_type": "markdown",
      "metadata": {
        "id": "8as72V1I92Ym"
      },
      "source": [
        "Debido a su similitud, podemos incluso crear `Series` usando `diccionarios`:"
      ]
    },
    {
      "cell_type": "code",
      "execution_count": null,
      "metadata": {
        "colab": {
          "base_uri": "https://localhost:8080/"
        },
        "id": "7Wtiw4M192Ym",
        "outputId": "8663fbdd-9371-4290-faff-fc5bce5185fa"
      },
      "outputs": [
        {
          "output_type": "execute_result",
          "data": {
            "text/plain": [
              "Juan         45\n",
              "Pepe         56\n",
              "Alfonsina    12\n",
              "Jenny        49\n",
              "Marco P.     12\n",
              "dtype: int64"
            ]
          },
          "metadata": {},
          "execution_count": 10
        }
      ],
      "source": [
        "# Creacion de Serie desde un diccionario\n",
        "datos = {\n",
        "    \"Juan\": 45,\n",
        "    \"Pepe\": 56,\n",
        "    \"Alfonsina\": 12,\n",
        "    \"Jenny\": 49,\n",
        "    \"Marco P.\": 12\n",
        "}\n",
        "\n",
        "serie_4 = pd.Series(datos)\n",
        "\n",
        "serie_4"
      ]
    },
    {
      "cell_type": "markdown",
      "metadata": {
        "id": "xc8cWnHH92Ym"
      },
      "source": [
        "Al igual que en las listas, podemos acceder a nuestros datos usando el `operador de indexación`. La diferencia es que en una `Serie` tenemos que incluir el operador `loc` para indicarle a la `Serie` que estamos accesándola usando los nombres de los índices:"
      ]
    },
    {
      "cell_type": "code",
      "source": [
        "serie_1"
      ],
      "metadata": {
        "colab": {
          "base_uri": "https://localhost:8080/"
        },
        "id": "pxfpkQ12Apa3",
        "outputId": "a51b5785-4ef7-4696-bf57-c439aaa63856"
      },
      "execution_count": null,
      "outputs": [
        {
          "output_type": "execute_result",
          "data": {
            "text/plain": [
              "0    3\n",
              "1    7\n",
              "2    9\n",
              "3    8\n",
              "dtype: int64"
            ]
          },
          "metadata": {},
          "execution_count": 11
        }
      ]
    },
    {
      "cell_type": "code",
      "execution_count": null,
      "metadata": {
        "colab": {
          "base_uri": "https://localhost:8080/"
        },
        "id": "3V8bNhyN92Ym",
        "outputId": "8a18df8a-715b-4c56-94e7-55f39316245b"
      },
      "outputs": [
        {
          "output_type": "execute_result",
          "data": {
            "text/plain": [
              "9"
            ]
          },
          "metadata": {},
          "execution_count": 12
        }
      ],
      "source": [
        "# Eleccion de un elemento por nombre de indice\n",
        "serie_1.loc[2]"
      ]
    },
    {
      "cell_type": "code",
      "source": [
        "serie_2"
      ],
      "metadata": {
        "colab": {
          "base_uri": "https://localhost:8080/"
        },
        "id": "LtDcJwxJA9Ck",
        "outputId": "d10f99d7-6aee-4654-a699-3b116b151712"
      },
      "execution_count": null,
      "outputs": [
        {
          "output_type": "execute_result",
          "data": {
            "text/plain": [
              "10    4\n",
              "11    7\n",
              "12    9\n",
              "13    8\n",
              "dtype: int64"
            ]
          },
          "metadata": {},
          "execution_count": 13
        }
      ]
    },
    {
      "cell_type": "code",
      "execution_count": null,
      "metadata": {
        "colab": {
          "base_uri": "https://localhost:8080/"
        },
        "id": "RCq9awtv92Yn",
        "outputId": "41f0a306-1487-46ce-b547-8bbef3ce6517"
      },
      "outputs": [
        {
          "output_type": "execute_result",
          "data": {
            "text/plain": [
              "9"
            ]
          },
          "metadata": {},
          "execution_count": 14
        }
      ],
      "source": [
        "# Eleccion de un elemento por nombre de indice\n",
        "serie_2.loc[12]"
      ]
    },
    {
      "cell_type": "code",
      "source": [
        "# Eleccion de un elemento por posicion\n",
        "serie_2.iloc[2]"
      ],
      "metadata": {
        "colab": {
          "base_uri": "https://localhost:8080/"
        },
        "id": "kzH3RILYBFrP",
        "outputId": "fb903606-3c3d-4c10-af7c-05b73c35f8c9"
      },
      "execution_count": null,
      "outputs": [
        {
          "output_type": "execute_result",
          "data": {
            "text/plain": [
              "9"
            ]
          },
          "metadata": {},
          "execution_count": 16
        }
      ]
    },
    {
      "cell_type": "markdown",
      "metadata": {
        "id": "mqO1CTg092Yn"
      },
      "source": [
        "También podemos usar también `strings` como argumento:"
      ]
    },
    {
      "cell_type": "code",
      "execution_count": null,
      "metadata": {
        "colab": {
          "base_uri": "https://localhost:8080/"
        },
        "id": "1-4O4jNX92Yn",
        "outputId": "6dac63f5-71fb-4f42-e537-ab7137f4eb68"
      },
      "outputs": [
        {
          "output_type": "execute_result",
          "data": {
            "text/plain": [
              "7"
            ]
          },
          "metadata": {},
          "execution_count": 17
        }
      ],
      "source": [
        "# Indice caracter\n",
        "serie_3.loc['c']"
      ]
    },
    {
      "cell_type": "code",
      "execution_count": null,
      "metadata": {
        "colab": {
          "base_uri": "https://localhost:8080/"
        },
        "id": "pBeXOvNm92Yo",
        "outputId": "e507b276-c267-4060-9a2d-06974948e49f"
      },
      "outputs": [
        {
          "output_type": "execute_result",
          "data": {
            "text/plain": [
              "12"
            ]
          },
          "metadata": {},
          "execution_count": 19
        }
      ],
      "source": [
        "# Indice string\n",
        "serie_4.loc['Marco P.']"
      ]
    },
    {
      "cell_type": "markdown",
      "metadata": {
        "id": "nhC3SyCp92Yo"
      },
      "source": [
        "¡Vayamos a nuestro primer Reto!"
      ]
    },
    {
      "cell_type": "code",
      "execution_count": null,
      "metadata": {
        "id": "Wuv4dlvt92Yo"
      },
      "outputs": [],
      "source": []
    }
  ],
  "metadata": {
    "kernelspec": {
      "display_name": "Python (data_science)",
      "language": "python",
      "name": "data_science"
    },
    "language_info": {
      "codemirror_mode": {
        "name": "ipython",
        "version": 3
      },
      "file_extension": ".py",
      "mimetype": "text/x-python",
      "name": "python",
      "nbconvert_exporter": "python",
      "pygments_lexer": "ipython3",
      "version": "3.8.5"
    },
    "colab": {
      "provenance": [],
      "include_colab_link": true
    }
  },
  "nbformat": 4,
  "nbformat_minor": 0
}