{
  "cells": [
    {
      "cell_type": "markdown",
      "metadata": {
        "id": "view-in-github",
        "colab_type": "text"
      },
      "source": [
        "<a href=\"https://colab.research.google.com/github/fermuba/Procesamiento-de-Datos/blob/main/S8/Ejemplos_clase/Ejemplo_1_conectandose.ipynb\" target=\"_parent\"><img src=\"https://colab.research.google.com/assets/colab-badge.svg\" alt=\"Open In Colab\"/></a>"
      ]
    },
    {
      "cell_type": "markdown",
      "metadata": {
        "id": "NKYlW_7uJSAM"
      },
      "source": [
        "## Ejemplo 1: Conectándose a una base de datos remota\n",
        "\n",
        "### 1. Objetivos:\n",
        "    - Usar `mysql-connector-python` para conectarse a una base de datos remota.\n",
        "\n",
        "---\n",
        "    \n",
        "### 2. Desarrollo:"
      ]
    },
    {
      "cell_type": "markdown",
      "metadata": {
        "id": "BqrYv54QJSAO"
      },
      "source": [
        "#### a) Realizar una conexión y el `cursor`\n",
        "\n",
        "Para conectarnos necesitamos primero importar la librería:"
      ]
    },
    {
      "cell_type": "code",
      "source": [
        "# Instalación de la libreria\n",
        "!pip install mysql-connector-python"
      ],
      "metadata": {
        "colab": {
          "base_uri": "https://localhost:8080/"
        },
        "id": "WBG8uhKWMJxX",
        "outputId": "5c2c5540-0db0-4696-8520-638d9ff7fcd3"
      },
      "execution_count": null,
      "outputs": [
        {
          "output_type": "stream",
          "name": "stdout",
          "text": [
            "Collecting mysql-connector-python\n",
            "  Downloading mysql_connector_python-8.4.0-cp310-cp310-manylinux_2_17_x86_64.whl (19.4 MB)\n",
            "\u001b[2K     \u001b[90m━━━━━━━━━━━━━━━━━━━━━━━━━━━━━━━━━━━━━━━━\u001b[0m \u001b[32m19.4/19.4 MB\u001b[0m \u001b[31m34.7 MB/s\u001b[0m eta \u001b[36m0:00:00\u001b[0m\n",
            "\u001b[?25hInstalling collected packages: mysql-connector-python\n",
            "Successfully installed mysql-connector-python-8.4.0\n"
          ]
        }
      ]
    },
    {
      "cell_type": "code",
      "execution_count": null,
      "metadata": {
        "id": "Dont6d9sJSAP"
      },
      "outputs": [],
      "source": [
        "# Cargamos libreria para conectarnos a una base de datos MySQL\n",
        "import mysql.connector\n",
        "import pandas as pd\n"
      ]
    },
    {
      "cell_type": "markdown",
      "metadata": {
        "id": "o6BDrrMVJSAR"
      },
      "source": [
        "Después necesitamos saber la siguiente información acerca de la instancia de MySQL a la que queremos conectarnos:\n",
        "\n",
        "1. Host\n",
        "2. Puerto\n",
        "3. Usuario\n",
        "4. Contraseña\n",
        "5. Base de datos a la que queremos conectarnos (recuerda que MySQL **no** es una base de datos, es un Sistema de Gestión de Bases de Datos; es decir, es software que nos ayuda a organizar bases de datos para que sean de fácil acceso)\n",
        "\n",
        "Todos esos datos los usamos para crear una conexión:"
      ]
    },
    {
      "cell_type": "code",
      "execution_count": null,
      "metadata": {
        "id": "xSgsdctjJSAR"
      },
      "outputs": [],
      "source": [
        "# Llenar esta información con los datos que te compartan los ingenieros de Bedu\n",
        "# Crear una conexión para nuestro servidor\n",
        "cnx = mysql.connector.connect(\n",
        "    host=\"ec2-35-93-190-108.us-west-2.compute.amazonaws.com\",\n",
        "    port=3306,\n",
        "    user=\"data\",\n",
        "    password=\"khQ9--mp6LWq97iA\",\n",
        "    database='movielens'\n",
        ")"
      ]
    },
    {
      "cell_type": "markdown",
      "metadata": {
        "id": "8q5rXtTHJSAS"
      },
      "source": [
        "Ahora, para poder realizar lecturas a nuestra base de datos, tenemos que crear un objeto llamado `cursor`:"
      ]
    },
    {
      "cell_type": "code",
      "execution_count": null,
      "metadata": {
        "id": "WXFL8GD0JSAS"
      },
      "outputs": [],
      "source": [
        "# Creamos un objeto de consulta llamado cursor\n",
        "cursor = cnx.cursor()"
      ]
    },
    {
      "cell_type": "markdown",
      "metadata": {
        "id": "aJaFNg27JSAS"
      },
      "source": [
        "Éste objeto lo podemos usar para realizar cualquier consulta en lenguaje SQL. Por ejemplo, veamos qué tablas existen en nuestra base de datos:"
      ]
    },
    {
      "cell_type": "code",
      "execution_count": null,
      "metadata": {
        "id": "OTpAqWCTJSAT"
      },
      "outputs": [],
      "source": [
        "# Enviamos la consulta\n",
        "cursor.execute(\"SHOW TABLES\")\n"
      ]
    },
    {
      "cell_type": "markdown",
      "metadata": {
        "id": "bbixgkqSJSAT"
      },
      "source": [
        "Después de ejecutar el comando, tenemos que extraer la información de esta manera:"
      ]
    },
    {
      "cell_type": "code",
      "execution_count": null,
      "metadata": {
        "id": "J-uBGzQIJSAT"
      },
      "outputs": [],
      "source": [
        "# Recuperamos la información del cursor\n",
        "result = cursor.fetchall()"
      ]
    },
    {
      "cell_type": "code",
      "execution_count": null,
      "metadata": {
        "colab": {
          "base_uri": "https://localhost:8080/"
        },
        "id": "6d4MqIPGJSAT",
        "outputId": "bb6151eb-d897-4e0b-bb24-c9d655f9074e"
      },
      "outputs": [
        {
          "output_type": "execute_result",
          "data": {
            "text/plain": [
              "[('age_ranges',), ('movies',), ('occupations',), ('ratings',), ('users',)]"
            ]
          },
          "metadata": {},
          "execution_count": 11
        }
      ],
      "source": [
        "result"
      ]
    },
    {
      "cell_type": "markdown",
      "metadata": {
        "id": "QC4UnRRFJSAT"
      },
      "source": [
        "Listo. Sabemos que tenemos 5 tablas en nuestra base de datos."
      ]
    },
    {
      "cell_type": "markdown",
      "metadata": {
        "id": "VC9Dg4WWJSAU"
      },
      "source": [
        "Por último, es importante cerrar nuestro `cursor` para no utilizar memoria extra en nuestra computadora:"
      ]
    },
    {
      "cell_type": "code",
      "execution_count": null,
      "metadata": {
        "colab": {
          "base_uri": "https://localhost:8080/"
        },
        "id": "fShHK0PaJSAU",
        "outputId": "e20ea3ce-1db4-444b-d32f-580dbd2aa738"
      },
      "outputs": [
        {
          "output_type": "execute_result",
          "data": {
            "text/plain": [
              "True"
            ]
          },
          "metadata": {},
          "execution_count": 10
        }
      ],
      "source": [
        "cursor.close()"
      ]
    }
  ],
  "metadata": {
    "kernelspec": {
      "display_name": "Python (data_science)",
      "language": "python",
      "name": "data_science"
    },
    "language_info": {
      "codemirror_mode": {
        "name": "ipython",
        "version": 3
      },
      "file_extension": ".py",
      "mimetype": "text/x-python",
      "name": "python",
      "nbconvert_exporter": "python",
      "pygments_lexer": "ipython3",
      "version": "3.8.1"
    },
    "colab": {
      "provenance": [],
      "include_colab_link": true
    }
  },
  "nbformat": 4,
  "nbformat_minor": 0
}