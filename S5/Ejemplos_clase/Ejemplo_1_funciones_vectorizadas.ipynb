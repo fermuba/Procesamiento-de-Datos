{
  "cells": [
    {
      "cell_type": "markdown",
      "metadata": {
        "id": "view-in-github",
        "colab_type": "text"
      },
      "source": [
        "<a href=\"https://colab.research.google.com/github/fermuba/Procesamiento-de-Datos/blob/main/S5/Ejemplos_clase/Ejemplo_1_funciones_vectorizadas.ipynb\" target=\"_parent\"><img src=\"https://colab.research.google.com/assets/colab-badge.svg\" alt=\"Open In Colab\"/></a>"
      ]
    },
    {
      "cell_type": "markdown",
      "metadata": {
        "id": "3F6A-OlJOb2Z"
      },
      "source": [
        "## Ejemplo 1: Funciones vectorizadas con `Series`\n",
        "\n",
        "### 1. Objetivos:\n",
        "    - Aprender cómo usar Funciones vectorizadas aplicadas a `Series` de Pandas\n",
        "\n",
        "---\n",
        "    \n",
        "### 2. Desarrollo:"
      ]
    },
    {
      "cell_type": "markdown",
      "metadata": {
        "id": "-1OJVfzUOb2f"
      },
      "source": [
        "Tenemos la siguiente Serie:"
      ]
    },
    {
      "cell_type": "code",
      "execution_count": null,
      "metadata": {
        "id": "H1j1lqbTOb2g"
      },
      "outputs": [],
      "source": [
        "# Cargamos librerias\n",
        "import pandas as pd"
      ]
    },
    {
      "cell_type": "code",
      "execution_count": null,
      "metadata": {
        "id": "Vny8Off8Ob2h"
      },
      "outputs": [],
      "source": [
        "# Creamos una serie pandas para pruebas\n",
        "serie_1 = pd.Series([1, 2, 3, 4, 5, 6, 7, 8, 9, 10])\n",
        "\n",
        "serie_1"
      ]
    },
    {
      "cell_type": "markdown",
      "metadata": {
        "id": "W-nllVCkOb2i"
      },
      "source": [
        "Recuerdas cómo utilizamos `map` para aplicar una función elemento por elemento a un arreglo. Podemos utilizar funciones vectorizadas para hacer esto mismo con Series y DataFrames de pandas. Esto resulta sumamente eficiente pues pandas está construido para funcionar de esta manera. Primero que nada, veamos cómo es posible aplicar operaciones aritméticas a Series de pandas y son aplicadas elemento por elemento. Por ejemplo:"
      ]
    },
    {
      "cell_type": "code",
      "execution_count": null,
      "metadata": {
        "colab": {
          "base_uri": "https://localhost:8080/"
        },
        "id": "BlRVu-SHOb2i",
        "outputId": "9802e2d6-6dab-4121-a1d0-5b5e894cfdfe"
      },
      "outputs": [
        {
          "output_type": "execute_result",
          "data": {
            "text/plain": [
              "0    11\n",
              "1    12\n",
              "2    13\n",
              "3    14\n",
              "4    15\n",
              "5    16\n",
              "6    17\n",
              "7    18\n",
              "8    19\n",
              "9    20\n",
              "dtype: int64"
            ]
          },
          "metadata": {},
          "execution_count": 4
        }
      ],
      "source": [
        "# Suma vectorial\n",
        "serie_1 + 10"
      ]
    },
    {
      "cell_type": "code",
      "execution_count": null,
      "metadata": {
        "colab": {
          "base_uri": "https://localhost:8080/"
        },
        "id": "fxCC8A-AOb2k",
        "outputId": "826ec134-7c28-4b17-ca67-45ac101704c8"
      },
      "outputs": [
        {
          "output_type": "execute_result",
          "data": {
            "text/plain": [
              "0     10\n",
              "1     20\n",
              "2     30\n",
              "3     40\n",
              "4     50\n",
              "5     60\n",
              "6     70\n",
              "7     80\n",
              "8     90\n",
              "9    100\n",
              "dtype: int64"
            ]
          },
          "metadata": {},
          "execution_count": 5
        }
      ],
      "source": [
        "# Multiplicacion ecalar\n",
        "serie_1 * 10"
      ]
    },
    {
      "cell_type": "code",
      "execution_count": null,
      "metadata": {
        "colab": {
          "base_uri": "https://localhost:8080/"
        },
        "id": "imLgyV7wOb2l",
        "outputId": "3549d600-d6d8-4674-a2de-8fcd1f013dc5"
      },
      "outputs": [
        {
          "output_type": "execute_result",
          "data": {
            "text/plain": [
              "0    1100\n",
              "1    1200\n",
              "2    1300\n",
              "3    1400\n",
              "4    1500\n",
              "5    1600\n",
              "6    1700\n",
              "7    1800\n",
              "8    1900\n",
              "9    2000\n",
              "dtype: int64"
            ]
          },
          "metadata": {},
          "execution_count": 6
        }
      ],
      "source": [
        "# Operaciones multiples\n",
        "(serie_1 + 10) * 100"
      ]
    },
    {
      "cell_type": "code",
      "execution_count": null,
      "metadata": {
        "colab": {
          "base_uri": "https://localhost:8080/"
        },
        "id": "AXRontwpOb2l",
        "outputId": "0fce1099-8755-44b5-acd6-66f0472f1b9b"
      },
      "outputs": [
        {
          "output_type": "execute_result",
          "data": {
            "text/plain": [
              "0    0.6\n",
              "1    1.2\n",
              "2    1.8\n",
              "3    2.4\n",
              "4    3.0\n",
              "5    3.6\n",
              "6    4.2\n",
              "7    4.8\n",
              "8    5.4\n",
              "9    6.0\n",
              "dtype: float64"
            ]
          },
          "metadata": {},
          "execution_count": 7
        }
      ],
      "source": [
        "# Operaciones con division\n",
        "serie_1 * 60 / 100"
      ]
    },
    {
      "cell_type": "markdown",
      "metadata": {
        "id": "RpBnmS58Ob2m"
      },
      "source": [
        "Podemos también aplicar funciones de manera vectorizada a una Serie de pandas. Esto quiere decir que, sin necesidad de utilizar `map` la función se aplica automáticamente a cada elemento. Vamos a utilizar una librería llamada `numpy` para probar algunas de estas funciones vectorizadas."
      ]
    },
    {
      "cell_type": "code",
      "execution_count": null,
      "metadata": {
        "id": "rGRe-iNPOb2m"
      },
      "outputs": [],
      "source": [
        "# Importar libreria numpay de matrices\n",
        "import numpy as np"
      ]
    },
    {
      "cell_type": "code",
      "execution_count": null,
      "metadata": {
        "colab": {
          "base_uri": "https://localhost:8080/"
        },
        "id": "IDqT3IAHOb2n",
        "outputId": "ecc7883d-de2e-4851-f140-0406baeb9027"
      },
      "outputs": [
        {
          "output_type": "execute_result",
          "data": {
            "text/plain": [
              "0      1\n",
              "1      4\n",
              "2      9\n",
              "3     16\n",
              "4     25\n",
              "5     36\n",
              "6     49\n",
              "7     64\n",
              "8     81\n",
              "9    100\n",
              "dtype: int64"
            ]
          },
          "metadata": {},
          "execution_count": 10
        }
      ],
      "source": [
        "# Calculo de potencia al cuadrado\n",
        "np.power(serie_1, 2)"
      ]
    },
    {
      "cell_type": "code",
      "execution_count": null,
      "metadata": {
        "colab": {
          "base_uri": "https://localhost:8080/"
        },
        "id": "7_MZ_t6VOb2o",
        "outputId": "d559410a-a6cd-43b6-936b-7138df7df0d8"
      },
      "outputs": [
        {
          "output_type": "execute_result",
          "data": {
            "text/plain": [
              "0    1.000000\n",
              "1    1.414214\n",
              "2    1.732051\n",
              "3    2.000000\n",
              "4    2.236068\n",
              "5    2.449490\n",
              "6    2.645751\n",
              "7    2.828427\n",
              "8    3.000000\n",
              "9    3.162278\n",
              "dtype: float64"
            ]
          },
          "metadata": {},
          "execution_count": 11
        }
      ],
      "source": [
        "# Calculo de la raiz cuadrada\n",
        "np.sqrt(serie_1)"
      ]
    },
    {
      "cell_type": "markdown",
      "metadata": {
        "id": "0BpnOzniOb2o"
      },
      "source": [
        "¿Ves qué fácil resulta?"
      ]
    },
    {
      "cell_type": "code",
      "execution_count": null,
      "metadata": {
        "id": "PxuUa914Ob2p"
      },
      "outputs": [],
      "source": []
    }
  ],
  "metadata": {
    "kernelspec": {
      "display_name": "Python (data_science)",
      "language": "python",
      "name": "data_science"
    },
    "language_info": {
      "codemirror_mode": {
        "name": "ipython",
        "version": 3
      },
      "file_extension": ".py",
      "mimetype": "text/x-python",
      "name": "python",
      "nbconvert_exporter": "python",
      "pygments_lexer": "ipython3",
      "version": "3.7.6"
    },
    "colab": {
      "provenance": [],
      "include_colab_link": true
    }
  },
  "nbformat": 4,
  "nbformat_minor": 0
}