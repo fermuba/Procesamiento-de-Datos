{
  "cells": [
    {
      "cell_type": "markdown",
      "metadata": {
        "id": "view-in-github",
        "colab_type": "text"
      },
      "source": [
        "<a href=\"https://colab.research.google.com/github/fermuba/Procesamiento-de-Datos/blob/main/S7/Ejemplos_clase/Ejemplo_4_apply.ipynb\" target=\"_parent\"><img src=\"https://colab.research.google.com/assets/colab-badge.svg\" alt=\"Open In Colab\"/></a>"
      ]
    },
    {
      "cell_type": "markdown",
      "metadata": {
        "id": "nfKjrrUtoAi6"
      },
      "source": [
        "## Ejemplo 4: `apply`\n",
        "\n",
        "### 1. Objetivos:\n",
        "    - Usar `apply` para aplicar funciones a `Series` y `DataFrames`\n",
        "\n",
        "---\n",
        "    \n",
        "### 2. Desarrollo:"
      ]
    },
    {
      "cell_type": "code",
      "execution_count": null,
      "metadata": {
        "id": "TQkWTnL6oAi-"
      },
      "outputs": [],
      "source": [
        "# Cargamos librerias\n",
        "import pandas as pd\n",
        "import numpy as np"
      ]
    },
    {
      "cell_type": "code",
      "source": [
        "# Permiso de acceso a nuestro Drive\n",
        "from google.colab import drive\n",
        "drive.mount('/content/drive')"
      ],
      "metadata": {
        "id": "RLYVlDSjoHMd"
      },
      "execution_count": null,
      "outputs": []
    },
    {
      "cell_type": "code",
      "execution_count": null,
      "metadata": {
        "colab": {
          "base_uri": "https://localhost:8080/",
          "height": 556
        },
        "id": "-SQtb6Q2oAjA",
        "outputId": "075d9515-1820-41a4-9c24-44494e9cd00f"
      },
      "outputs": [
        {
          "output_type": "execute_result",
          "data": {
            "text/plain": [
              "                                  amazon_product_url             author  \\\n",
              "0  http://www.amazon.com/The-Host-Novel-Stephenie...    Stephenie Meyer   \n",
              "1  http://www.amazon.com/Love-Youre-With-Emily-Gi...       Emily Giffin   \n",
              "2  http://www.amazon.com/The-Front-Garano-Patrici...  Patricia Cornwell   \n",
              "3  http://www.amazon.com/Snuff-Chuck-Palahniuk/dp...    Chuck Palahniuk   \n",
              "5  http://www.amazon.com/Phantom-Prey-John-Sandfo...      John Sandford   \n",
              "\n",
              "                                         description      publisher  \\\n",
              "0  Descr: Aliens have taken control of the minds ...  Little, Brown   \n",
              "1  Descr: A woman's happy marriage is shaken when...   St. Martin's   \n",
              "2  Descr: A Massachusetts state investigator and ...         Putnam   \n",
              "3  Descr: An aging porn queens aims to cap her ca...      Doubleday   \n",
              "5  Descr: The Minneapolis detective Lucas Davenpo...         Putnam   \n",
              "\n",
              "                      title                       oid  \\\n",
              "0                  THE HOST  5b4aa4ead3089013507db18c   \n",
              "1  LOVE THE ONE YOU'RE WITH  5b4aa4ead3089013507db18d   \n",
              "2                 THE FRONT  5b4aa4ead3089013507db18e   \n",
              "3                     SNUFF  5b4aa4ead3089013507db18f   \n",
              "5              PHANTOM PREY  5b4aa4ead3089013507db191   \n",
              "\n",
              "  bestsellers_date.numberLong  published_date.numberLong rank.numberInt  \\\n",
              "0         2008-05-24 00:00:00              1212883200000              2   \n",
              "1         2008-05-24 00:00:00              1212883200000              3   \n",
              "2         2008-05-24 00:00:00              1212883200000              4   \n",
              "3         2008-05-24 00:00:00              1212883200000              5   \n",
              "5         2008-05-24 00:00:00              1212883200000              7   \n",
              "\n",
              "   rank_last_week.numberInt  weeks_on_list.numberInt  price.numberDouble  \n",
              "0                         1                        3               25.99  \n",
              "1                         2                        2               24.95  \n",
              "2                         0                        1               22.95  \n",
              "3                         0                        1               24.95  \n",
              "5                         4                        3               26.95  "
            ],
            "text/html": [
              "\n",
              "  <div id=\"df-8eee42f9-1c7e-4f6e-b0ff-85aab18e8157\" class=\"colab-df-container\">\n",
              "    <div>\n",
              "<style scoped>\n",
              "    .dataframe tbody tr th:only-of-type {\n",
              "        vertical-align: middle;\n",
              "    }\n",
              "\n",
              "    .dataframe tbody tr th {\n",
              "        vertical-align: top;\n",
              "    }\n",
              "\n",
              "    .dataframe thead th {\n",
              "        text-align: right;\n",
              "    }\n",
              "</style>\n",
              "<table border=\"1\" class=\"dataframe\">\n",
              "  <thead>\n",
              "    <tr style=\"text-align: right;\">\n",
              "      <th></th>\n",
              "      <th>amazon_product_url</th>\n",
              "      <th>author</th>\n",
              "      <th>description</th>\n",
              "      <th>publisher</th>\n",
              "      <th>title</th>\n",
              "      <th>oid</th>\n",
              "      <th>bestsellers_date.numberLong</th>\n",
              "      <th>published_date.numberLong</th>\n",
              "      <th>rank.numberInt</th>\n",
              "      <th>rank_last_week.numberInt</th>\n",
              "      <th>weeks_on_list.numberInt</th>\n",
              "      <th>price.numberDouble</th>\n",
              "    </tr>\n",
              "  </thead>\n",
              "  <tbody>\n",
              "    <tr>\n",
              "      <th>0</th>\n",
              "      <td>http://www.amazon.com/The-Host-Novel-Stephenie...</td>\n",
              "      <td>Stephenie Meyer</td>\n",
              "      <td>Descr: Aliens have taken control of the minds ...</td>\n",
              "      <td>Little, Brown</td>\n",
              "      <td>THE HOST</td>\n",
              "      <td>5b4aa4ead3089013507db18c</td>\n",
              "      <td>2008-05-24 00:00:00</td>\n",
              "      <td>1212883200000</td>\n",
              "      <td>2</td>\n",
              "      <td>1</td>\n",
              "      <td>3</td>\n",
              "      <td>25.99</td>\n",
              "    </tr>\n",
              "    <tr>\n",
              "      <th>1</th>\n",
              "      <td>http://www.amazon.com/Love-Youre-With-Emily-Gi...</td>\n",
              "      <td>Emily Giffin</td>\n",
              "      <td>Descr: A woman's happy marriage is shaken when...</td>\n",
              "      <td>St. Martin's</td>\n",
              "      <td>LOVE THE ONE YOU'RE WITH</td>\n",
              "      <td>5b4aa4ead3089013507db18d</td>\n",
              "      <td>2008-05-24 00:00:00</td>\n",
              "      <td>1212883200000</td>\n",
              "      <td>3</td>\n",
              "      <td>2</td>\n",
              "      <td>2</td>\n",
              "      <td>24.95</td>\n",
              "    </tr>\n",
              "    <tr>\n",
              "      <th>2</th>\n",
              "      <td>http://www.amazon.com/The-Front-Garano-Patrici...</td>\n",
              "      <td>Patricia Cornwell</td>\n",
              "      <td>Descr: A Massachusetts state investigator and ...</td>\n",
              "      <td>Putnam</td>\n",
              "      <td>THE FRONT</td>\n",
              "      <td>5b4aa4ead3089013507db18e</td>\n",
              "      <td>2008-05-24 00:00:00</td>\n",
              "      <td>1212883200000</td>\n",
              "      <td>4</td>\n",
              "      <td>0</td>\n",
              "      <td>1</td>\n",
              "      <td>22.95</td>\n",
              "    </tr>\n",
              "    <tr>\n",
              "      <th>3</th>\n",
              "      <td>http://www.amazon.com/Snuff-Chuck-Palahniuk/dp...</td>\n",
              "      <td>Chuck Palahniuk</td>\n",
              "      <td>Descr: An aging porn queens aims to cap her ca...</td>\n",
              "      <td>Doubleday</td>\n",
              "      <td>SNUFF</td>\n",
              "      <td>5b4aa4ead3089013507db18f</td>\n",
              "      <td>2008-05-24 00:00:00</td>\n",
              "      <td>1212883200000</td>\n",
              "      <td>5</td>\n",
              "      <td>0</td>\n",
              "      <td>1</td>\n",
              "      <td>24.95</td>\n",
              "    </tr>\n",
              "    <tr>\n",
              "      <th>5</th>\n",
              "      <td>http://www.amazon.com/Phantom-Prey-John-Sandfo...</td>\n",
              "      <td>John Sandford</td>\n",
              "      <td>Descr: The Minneapolis detective Lucas Davenpo...</td>\n",
              "      <td>Putnam</td>\n",
              "      <td>PHANTOM PREY</td>\n",
              "      <td>5b4aa4ead3089013507db191</td>\n",
              "      <td>2008-05-24 00:00:00</td>\n",
              "      <td>1212883200000</td>\n",
              "      <td>7</td>\n",
              "      <td>4</td>\n",
              "      <td>3</td>\n",
              "      <td>26.95</td>\n",
              "    </tr>\n",
              "  </tbody>\n",
              "</table>\n",
              "</div>\n",
              "    <div class=\"colab-df-buttons\">\n",
              "\n",
              "  <div class=\"colab-df-container\">\n",
              "    <button class=\"colab-df-convert\" onclick=\"convertToInteractive('df-8eee42f9-1c7e-4f6e-b0ff-85aab18e8157')\"\n",
              "            title=\"Convert this dataframe to an interactive table.\"\n",
              "            style=\"display:none;\">\n",
              "\n",
              "  <svg xmlns=\"http://www.w3.org/2000/svg\" height=\"24px\" viewBox=\"0 -960 960 960\">\n",
              "    <path d=\"M120-120v-720h720v720H120Zm60-500h600v-160H180v160Zm220 220h160v-160H400v160Zm0 220h160v-160H400v160ZM180-400h160v-160H180v160Zm440 0h160v-160H620v160ZM180-180h160v-160H180v160Zm440 0h160v-160H620v160Z\"/>\n",
              "  </svg>\n",
              "    </button>\n",
              "\n",
              "  <style>\n",
              "    .colab-df-container {\n",
              "      display:flex;\n",
              "      gap: 12px;\n",
              "    }\n",
              "\n",
              "    .colab-df-convert {\n",
              "      background-color: #E8F0FE;\n",
              "      border: none;\n",
              "      border-radius: 50%;\n",
              "      cursor: pointer;\n",
              "      display: none;\n",
              "      fill: #1967D2;\n",
              "      height: 32px;\n",
              "      padding: 0 0 0 0;\n",
              "      width: 32px;\n",
              "    }\n",
              "\n",
              "    .colab-df-convert:hover {\n",
              "      background-color: #E2EBFA;\n",
              "      box-shadow: 0px 1px 2px rgba(60, 64, 67, 0.3), 0px 1px 3px 1px rgba(60, 64, 67, 0.15);\n",
              "      fill: #174EA6;\n",
              "    }\n",
              "\n",
              "    .colab-df-buttons div {\n",
              "      margin-bottom: 4px;\n",
              "    }\n",
              "\n",
              "    [theme=dark] .colab-df-convert {\n",
              "      background-color: #3B4455;\n",
              "      fill: #D2E3FC;\n",
              "    }\n",
              "\n",
              "    [theme=dark] .colab-df-convert:hover {\n",
              "      background-color: #434B5C;\n",
              "      box-shadow: 0px 1px 3px 1px rgba(0, 0, 0, 0.15);\n",
              "      filter: drop-shadow(0px 1px 2px rgba(0, 0, 0, 0.3));\n",
              "      fill: #FFFFFF;\n",
              "    }\n",
              "  </style>\n",
              "\n",
              "    <script>\n",
              "      const buttonEl =\n",
              "        document.querySelector('#df-8eee42f9-1c7e-4f6e-b0ff-85aab18e8157 button.colab-df-convert');\n",
              "      buttonEl.style.display =\n",
              "        google.colab.kernel.accessAllowed ? 'block' : 'none';\n",
              "\n",
              "      async function convertToInteractive(key) {\n",
              "        const element = document.querySelector('#df-8eee42f9-1c7e-4f6e-b0ff-85aab18e8157');\n",
              "        const dataTable =\n",
              "          await google.colab.kernel.invokeFunction('convertToInteractive',\n",
              "                                                    [key], {});\n",
              "        if (!dataTable) return;\n",
              "\n",
              "        const docLinkHtml = 'Like what you see? Visit the ' +\n",
              "          '<a target=\"_blank\" href=https://colab.research.google.com/notebooks/data_table.ipynb>data table notebook</a>'\n",
              "          + ' to learn more about interactive tables.';\n",
              "        element.innerHTML = '';\n",
              "        dataTable['output_type'] = 'display_data';\n",
              "        await google.colab.output.renderOutput(dataTable, element);\n",
              "        const docLink = document.createElement('div');\n",
              "        docLink.innerHTML = docLinkHtml;\n",
              "        element.appendChild(docLink);\n",
              "      }\n",
              "    </script>\n",
              "  </div>\n",
              "\n",
              "\n",
              "<div id=\"df-9e257fc2-64c7-45b9-9e2c-03b81cda8224\">\n",
              "  <button class=\"colab-df-quickchart\" onclick=\"quickchart('df-9e257fc2-64c7-45b9-9e2c-03b81cda8224')\"\n",
              "            title=\"Suggest charts\"\n",
              "            style=\"display:none;\">\n",
              "\n",
              "<svg xmlns=\"http://www.w3.org/2000/svg\" height=\"24px\"viewBox=\"0 0 24 24\"\n",
              "     width=\"24px\">\n",
              "    <g>\n",
              "        <path d=\"M19 3H5c-1.1 0-2 .9-2 2v14c0 1.1.9 2 2 2h14c1.1 0 2-.9 2-2V5c0-1.1-.9-2-2-2zM9 17H7v-7h2v7zm4 0h-2V7h2v10zm4 0h-2v-4h2v4z\"/>\n",
              "    </g>\n",
              "</svg>\n",
              "  </button>\n",
              "\n",
              "<style>\n",
              "  .colab-df-quickchart {\n",
              "      --bg-color: #E8F0FE;\n",
              "      --fill-color: #1967D2;\n",
              "      --hover-bg-color: #E2EBFA;\n",
              "      --hover-fill-color: #174EA6;\n",
              "      --disabled-fill-color: #AAA;\n",
              "      --disabled-bg-color: #DDD;\n",
              "  }\n",
              "\n",
              "  [theme=dark] .colab-df-quickchart {\n",
              "      --bg-color: #3B4455;\n",
              "      --fill-color: #D2E3FC;\n",
              "      --hover-bg-color: #434B5C;\n",
              "      --hover-fill-color: #FFFFFF;\n",
              "      --disabled-bg-color: #3B4455;\n",
              "      --disabled-fill-color: #666;\n",
              "  }\n",
              "\n",
              "  .colab-df-quickchart {\n",
              "    background-color: var(--bg-color);\n",
              "    border: none;\n",
              "    border-radius: 50%;\n",
              "    cursor: pointer;\n",
              "    display: none;\n",
              "    fill: var(--fill-color);\n",
              "    height: 32px;\n",
              "    padding: 0;\n",
              "    width: 32px;\n",
              "  }\n",
              "\n",
              "  .colab-df-quickchart:hover {\n",
              "    background-color: var(--hover-bg-color);\n",
              "    box-shadow: 0 1px 2px rgba(60, 64, 67, 0.3), 0 1px 3px 1px rgba(60, 64, 67, 0.15);\n",
              "    fill: var(--button-hover-fill-color);\n",
              "  }\n",
              "\n",
              "  .colab-df-quickchart-complete:disabled,\n",
              "  .colab-df-quickchart-complete:disabled:hover {\n",
              "    background-color: var(--disabled-bg-color);\n",
              "    fill: var(--disabled-fill-color);\n",
              "    box-shadow: none;\n",
              "  }\n",
              "\n",
              "  .colab-df-spinner {\n",
              "    border: 2px solid var(--fill-color);\n",
              "    border-color: transparent;\n",
              "    border-bottom-color: var(--fill-color);\n",
              "    animation:\n",
              "      spin 1s steps(1) infinite;\n",
              "  }\n",
              "\n",
              "  @keyframes spin {\n",
              "    0% {\n",
              "      border-color: transparent;\n",
              "      border-bottom-color: var(--fill-color);\n",
              "      border-left-color: var(--fill-color);\n",
              "    }\n",
              "    20% {\n",
              "      border-color: transparent;\n",
              "      border-left-color: var(--fill-color);\n",
              "      border-top-color: var(--fill-color);\n",
              "    }\n",
              "    30% {\n",
              "      border-color: transparent;\n",
              "      border-left-color: var(--fill-color);\n",
              "      border-top-color: var(--fill-color);\n",
              "      border-right-color: var(--fill-color);\n",
              "    }\n",
              "    40% {\n",
              "      border-color: transparent;\n",
              "      border-right-color: var(--fill-color);\n",
              "      border-top-color: var(--fill-color);\n",
              "    }\n",
              "    60% {\n",
              "      border-color: transparent;\n",
              "      border-right-color: var(--fill-color);\n",
              "    }\n",
              "    80% {\n",
              "      border-color: transparent;\n",
              "      border-right-color: var(--fill-color);\n",
              "      border-bottom-color: var(--fill-color);\n",
              "    }\n",
              "    90% {\n",
              "      border-color: transparent;\n",
              "      border-bottom-color: var(--fill-color);\n",
              "    }\n",
              "  }\n",
              "</style>\n",
              "\n",
              "  <script>\n",
              "    async function quickchart(key) {\n",
              "      const quickchartButtonEl =\n",
              "        document.querySelector('#' + key + ' button');\n",
              "      quickchartButtonEl.disabled = true;  // To prevent multiple clicks.\n",
              "      quickchartButtonEl.classList.add('colab-df-spinner');\n",
              "      try {\n",
              "        const charts = await google.colab.kernel.invokeFunction(\n",
              "            'suggestCharts', [key], {});\n",
              "      } catch (error) {\n",
              "        console.error('Error during call to suggestCharts:', error);\n",
              "      }\n",
              "      quickchartButtonEl.classList.remove('colab-df-spinner');\n",
              "      quickchartButtonEl.classList.add('colab-df-quickchart-complete');\n",
              "    }\n",
              "    (() => {\n",
              "      let quickchartButtonEl =\n",
              "        document.querySelector('#df-9e257fc2-64c7-45b9-9e2c-03b81cda8224 button');\n",
              "      quickchartButtonEl.style.display =\n",
              "        google.colab.kernel.accessAllowed ? 'block' : 'none';\n",
              "    })();\n",
              "  </script>\n",
              "</div>\n",
              "\n",
              "    </div>\n",
              "  </div>\n"
            ],
            "application/vnd.google.colaboratory.intrinsic+json": {
              "type": "dataframe",
              "variable_name": "df",
              "summary": "{\n  \"name\": \"df\",\n  \"rows\": 2266,\n  \"fields\": [\n    {\n      \"column\": \"amazon_product_url\",\n      \"properties\": {\n        \"dtype\": \"category\",\n        \"num_unique_values\": 532,\n        \"samples\": [\n          \"http://www.amazon.com/Where-Are-You-Now-Novel/dp/1416566384?tag=NYTBS-20\",\n          \"http://www.amazon.com/Flight-Behavior-Novel-Barbara-Kingsolver-ebook/dp/B007HBY89E?tag=NYTBS-20\",\n          \"http://www.amazon.com/The-Sign-Raymond-Khoury/dp/0525950974?tag=NYTBS-20\"\n        ],\n        \"semantic_type\": \"\",\n        \"description\": \"\"\n      }\n    },\n    {\n      \"column\": \"author\",\n      \"properties\": {\n        \"dtype\": \"category\",\n        \"num_unique_values\": 233,\n        \"samples\": [\n          \"Amanda Quick\",\n          \"David Wong\",\n          \"Meg Wolitzer\"\n        ],\n        \"semantic_type\": \"\",\n        \"description\": \"\"\n      }\n    },\n    {\n      \"column\": \"description\",\n      \"properties\": {\n        \"dtype\": \"category\",\n        \"num_unique_values\": 688,\n        \"samples\": [\n          \"Descr: Detective Thomas Lynley becomes involved when a woman\\u2019s body is found in a London cemetery.     \",\n          \"Descr: A novel about Elizabeth Keckley, who was born a slave, earned her freedom through her dressmaking skill and became a friend of Mary Todd Lincoln; she is a character in the movie \\u201cLincoln.\\u201d     \",\n          \"Descr: \\nAfter the rape and murder of his girlfriend, a distraught young man discovers that he has grown horns.     \"\n        ],\n        \"semantic_type\": \"\",\n        \"description\": \"\"\n      }\n    },\n    {\n      \"column\": \"publisher\",\n      \"properties\": {\n        \"dtype\": \"category\",\n        \"num_unique_values\": 69,\n        \"samples\": [\n          \"Ace\",\n          \"Little, Brown\",\n          \"Tyndale House\"\n        ],\n        \"semantic_type\": \"\",\n        \"description\": \"\"\n      }\n    },\n    {\n      \"column\": \"title\",\n      \"properties\": {\n        \"dtype\": \"category\",\n        \"num_unique_values\": 529,\n        \"samples\": [\n          \"A GATE AT THE STAIRS\",\n          \"PINEAPPLE GRENADE\",\n          \"CARELESS IN RED\"\n        ],\n        \"semantic_type\": \"\",\n        \"description\": \"\"\n      }\n    },\n    {\n      \"column\": \"oid\",\n      \"properties\": {\n        \"dtype\": \"string\",\n        \"num_unique_values\": 2266,\n        \"samples\": [\n          \"5b4aa4ead3089013507db310\",\n          \"5b4aa4ead3089013507db829\",\n          \"5b4aa4ead3089013507dbeb2\"\n        ],\n        \"semantic_type\": \"\",\n        \"description\": \"\"\n      }\n    },\n    {\n      \"column\": \"bestsellers_date.numberLong\",\n      \"properties\": {\n        \"dtype\": \"object\",\n        \"num_unique_values\": 257,\n        \"samples\": [\n          \"2011-07-23 00:00:00\",\n          \"2011-12-17 00:00:00\",\n          \"2009-12-19 00:00:00\"\n        ],\n        \"semantic_type\": \"\",\n        \"description\": \"\"\n      }\n    },\n    {\n      \"column\": \"published_date.numberLong\",\n      \"properties\": {\n        \"dtype\": \"number\",\n        \"std\": 44030538583,\n        \"min\": 1212883200000,\n        \"max\": 1367712000000,\n        \"num_unique_values\": 257,\n        \"samples\": [\n          1312675200000,\n          1325376000000,\n          1262476800000\n        ],\n        \"semantic_type\": \"\",\n        \"description\": \"\"\n      }\n    },\n    {\n      \"column\": \"rank.numberInt\",\n      \"properties\": {\n        \"dtype\": \"category\",\n        \"num_unique_values\": 17,\n        \"samples\": [\n          \"2\",\n          \"3\",\n          \"8\"\n        ],\n        \"semantic_type\": \"\",\n        \"description\": \"\"\n      }\n    },\n    {\n      \"column\": \"rank_last_week.numberInt\",\n      \"properties\": {\n        \"dtype\": \"number\",\n        \"std\": 4,\n        \"min\": 0,\n        \"max\": 16,\n        \"num_unique_values\": 17,\n        \"samples\": [\n          1,\n          2,\n          8\n        ],\n        \"semantic_type\": \"\",\n        \"description\": \"\"\n      }\n    },\n    {\n      \"column\": \"weeks_on_list.numberInt\",\n      \"properties\": {\n        \"dtype\": \"number\",\n        \"std\": 15,\n        \"min\": 1,\n        \"max\": 108,\n        \"num_unique_values\": 108,\n        \"samples\": [\n          78,\n          11,\n          4\n        ],\n        \"semantic_type\": \"\",\n        \"description\": \"\"\n      }\n    },\n    {\n      \"column\": \"price.numberDouble\",\n      \"properties\": {\n        \"dtype\": \"number\",\n        \"std\": 1.679919822768794,\n        \"min\": 14.99,\n        \"max\": 30.5,\n        \"num_unique_values\": 21,\n        \"samples\": [\n          25.99,\n          14.99,\n          23.99\n        ],\n        \"semantic_type\": \"\",\n        \"description\": \"\"\n      }\n    }\n  ]\n}"
            }
          },
          "metadata": {},
          "execution_count": 5
        }
      ],
      "source": [
        "# Cargamos el archivo csv a un dataframe\n",
        "df = pd.read_csv('/content/drive/MyDrive/BEDU/ProcesamientoDatos/Datasets/new_york_times_bestsellers-dirty.csv', index_col=0)\n",
        "\n",
        "df.head()"
      ]
    },
    {
      "cell_type": "markdown",
      "metadata": {
        "id": "l0pcFVc9oAjB"
      },
      "source": [
        "Podemos aplicar funciones a nuestras `Series` con el método `apply`:"
      ]
    },
    {
      "cell_type": "code",
      "execution_count": null,
      "metadata": {
        "id": "G8ScxXFzoAjC"
      },
      "outputs": [],
      "source": [
        "# Creamos una funcion para calculo de fechas\n",
        "def years_since_bestseller(value):\n",
        "\n",
        "    as_datetime = pd.to_datetime(value, unit='ms')\n",
        "    today = pd.to_datetime('today')\n",
        "    difference_in_days = (today - as_datetime).days\n",
        "    in_years = difference_in_days / 365\n",
        "\n",
        "    return in_years"
      ]
    },
    {
      "cell_type": "code",
      "execution_count": null,
      "metadata": {
        "colab": {
          "base_uri": "https://localhost:8080/"
        },
        "id": "_e4wC8zroAjC",
        "outputId": "f2a6def4-b369-4ebf-b80e-0a475a41e45d"
      },
      "outputs": [
        {
          "output_type": "execute_result",
          "data": {
            "text/plain": [
              "0       16.005479\n",
              "1       16.005479\n",
              "2       16.005479\n",
              "3       16.005479\n",
              "5       16.005479\n",
              "          ...    \n",
              "3027    11.095890\n",
              "3028    11.095890\n",
              "3029    11.095890\n",
              "3030    11.095890\n",
              "3031    11.095890\n",
              "Name: published_date.numberLong, Length: 2266, dtype: float64"
            ]
          },
          "metadata": {},
          "execution_count": 8
        }
      ],
      "source": [
        "# Aplicamos una funcion personalizada a cada elemento de la columna\n",
        "df['published_date.numberLong'].apply(years_since_bestseller)"
      ]
    },
    {
      "cell_type": "markdown",
      "metadata": {
        "id": "oeJYH40NoAjC"
      },
      "source": [
        "O esta otra:"
      ]
    },
    {
      "cell_type": "code",
      "execution_count": null,
      "metadata": {
        "id": "tEJv0CLKoAjC"
      },
      "outputs": [],
      "source": [
        "# Definimos una funcion para el calculo de porcentajes de la informacion de la\n",
        "# columna 'weeks_on_list.numberInt'\n",
        "def weeks_on_list_percentage_of_maximum(value, max_weeks_on_list):\n",
        "\n",
        "    percentage = value * 100 / max_weeks_on_list\n",
        "    as_string = f'{percentage:.2f}%'\n",
        "\n",
        "    return as_string"
      ]
    },
    {
      "cell_type": "code",
      "execution_count": null,
      "metadata": {
        "colab": {
          "base_uri": "https://localhost:8080/"
        },
        "id": "4bUJL6yCoAjC",
        "outputId": "ee366c3f-3d12-4781-e9c5-c16a3da3192c"
      },
      "outputs": [
        {
          "output_type": "execute_result",
          "data": {
            "text/plain": [
              "0       2.78%\n",
              "1       1.85%\n",
              "2       0.93%\n",
              "3       0.93%\n",
              "5       2.78%\n",
              "        ...  \n",
              "3027    1.85%\n",
              "3028    4.63%\n",
              "3029    1.85%\n",
              "3030    0.93%\n",
              "3031    7.41%\n",
              "Name: weeks_on_list.numberInt, Length: 2266, dtype: object"
            ]
          },
          "metadata": {},
          "execution_count": 10
        }
      ],
      "source": [
        "# Usar la funcion apply con el parametro args, para pasar argumentos a la funcion\n",
        "df['weeks_on_list.numberInt'].apply(weeks_on_list_percentage_of_maximum, args=(df['weeks_on_list.numberInt'].max(),))"
      ]
    },
    {
      "cell_type": "markdown",
      "metadata": {
        "id": "6vZtEiyYoAjD"
      },
      "source": [
        "Veremos cómo usar `apply` en `DataFrames` en un módulo posterior, ya que este dataset no se presta mucho para eso."
      ]
    },
    {
      "cell_type": "code",
      "execution_count": null,
      "metadata": {
        "id": "E2_bwYy7oAjD"
      },
      "outputs": [],
      "source": []
    }
  ],
  "metadata": {
    "kernelspec": {
      "display_name": "Python (data_science)",
      "language": "python",
      "name": "data_science"
    },
    "language_info": {
      "codemirror_mode": {
        "name": "ipython",
        "version": 3
      },
      "file_extension": ".py",
      "mimetype": "text/x-python",
      "name": "python",
      "nbconvert_exporter": "python",
      "pygments_lexer": "ipython3",
      "version": "3.8.1"
    },
    "colab": {
      "provenance": [],
      "include_colab_link": true
    }
  },
  "nbformat": 4,
  "nbformat_minor": 0
}