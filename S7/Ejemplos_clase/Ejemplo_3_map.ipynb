{
  "cells": [
    {
      "cell_type": "markdown",
      "metadata": {
        "id": "view-in-github",
        "colab_type": "text"
      },
      "source": [
        "<a href=\"https://colab.research.google.com/github/fermuba/Procesamiento-de-Datos/blob/main/S7/Ejemplos_clase/Ejemplo_3_map.ipynb\" target=\"_parent\"><img src=\"https://colab.research.google.com/assets/colab-badge.svg\" alt=\"Open In Colab\"/></a>"
      ]
    },
    {
      "cell_type": "markdown",
      "metadata": {
        "id": "h-secQcUj4HQ"
      },
      "source": [
        "## Ejemplo 3: `map`\n",
        "\n",
        "### 1. Objetivos:\n",
        "    - Usar `map` para convertir datos usando un `diccionario` o una `función``\n",
        "\n",
        "---\n",
        "    \n",
        "### 2. Desarrollo:"
      ]
    },
    {
      "cell_type": "code",
      "execution_count": 1,
      "metadata": {
        "id": "MGQYMTncj4HX"
      },
      "outputs": [],
      "source": [
        "# Cargamos librerias\n",
        "import pandas as pd"
      ]
    },
    {
      "cell_type": "code",
      "source": [
        "# Le damos permiso de acceso a nuestro Drive\n",
        "from google.colab import drive\n",
        "drive.mount('/content/drive')"
      ],
      "metadata": {
        "colab": {
          "base_uri": "https://localhost:8080/"
        },
        "id": "eJ2CyV3ikGdF",
        "outputId": "b7607c24-4002-4d61-ff58-a6fae226962b"
      },
      "execution_count": 2,
      "outputs": [
        {
          "output_type": "stream",
          "name": "stdout",
          "text": [
            "Mounted at /content/drive\n"
          ]
        }
      ]
    },
    {
      "cell_type": "code",
      "execution_count": 3,
      "metadata": {
        "colab": {
          "base_uri": "https://localhost:8080/",
          "height": 556
        },
        "id": "gPqNzIqtj4Hb",
        "outputId": "57c823d1-9a60-443d-fb63-35ab3b78142e"
      },
      "outputs": [
        {
          "output_type": "execute_result",
          "data": {
            "text/plain": [
              "                                  amazon_product_url             author  \\\n",
              "0  http://www.amazon.com/The-Host-Novel-Stephenie...    Stephenie Meyer   \n",
              "1  http://www.amazon.com/Love-Youre-With-Emily-Gi...       Emily Giffin   \n",
              "2  http://www.amazon.com/The-Front-Garano-Patrici...  Patricia Cornwell   \n",
              "3  http://www.amazon.com/Snuff-Chuck-Palahniuk/dp...    Chuck Palahniuk   \n",
              "5  http://www.amazon.com/Phantom-Prey-John-Sandfo...      John Sandford   \n",
              "\n",
              "                                         description      publisher  \\\n",
              "0  Descr: Aliens have taken control of the minds ...  Little, Brown   \n",
              "1  Descr: A woman's happy marriage is shaken when...   St. Martin's   \n",
              "2  Descr: A Massachusetts state investigator and ...         Putnam   \n",
              "3  Descr: An aging porn queens aims to cap her ca...      Doubleday   \n",
              "5  Descr: The Minneapolis detective Lucas Davenpo...         Putnam   \n",
              "\n",
              "                      title                       oid  \\\n",
              "0                  THE HOST  5b4aa4ead3089013507db18c   \n",
              "1  LOVE THE ONE YOU'RE WITH  5b4aa4ead3089013507db18d   \n",
              "2                 THE FRONT  5b4aa4ead3089013507db18e   \n",
              "3                     SNUFF  5b4aa4ead3089013507db18f   \n",
              "5              PHANTOM PREY  5b4aa4ead3089013507db191   \n",
              "\n",
              "  bestsellers_date.numberLong  published_date.numberLong rank.numberInt  \\\n",
              "0         2008-05-24 00:00:00              1212883200000              2   \n",
              "1         2008-05-24 00:00:00              1212883200000              3   \n",
              "2         2008-05-24 00:00:00              1212883200000              4   \n",
              "3         2008-05-24 00:00:00              1212883200000              5   \n",
              "5         2008-05-24 00:00:00              1212883200000              7   \n",
              "\n",
              "   rank_last_week.numberInt  weeks_on_list.numberInt  price.numberDouble  \n",
              "0                         1                        3               25.99  \n",
              "1                         2                        2               24.95  \n",
              "2                         0                        1               22.95  \n",
              "3                         0                        1               24.95  \n",
              "5                         4                        3               26.95  "
            ],
            "text/html": [
              "\n",
              "  <div id=\"df-46faca07-71a2-45bb-b1a7-a1183361a8f3\" class=\"colab-df-container\">\n",
              "    <div>\n",
              "<style scoped>\n",
              "    .dataframe tbody tr th:only-of-type {\n",
              "        vertical-align: middle;\n",
              "    }\n",
              "\n",
              "    .dataframe tbody tr th {\n",
              "        vertical-align: top;\n",
              "    }\n",
              "\n",
              "    .dataframe thead th {\n",
              "        text-align: right;\n",
              "    }\n",
              "</style>\n",
              "<table border=\"1\" class=\"dataframe\">\n",
              "  <thead>\n",
              "    <tr style=\"text-align: right;\">\n",
              "      <th></th>\n",
              "      <th>amazon_product_url</th>\n",
              "      <th>author</th>\n",
              "      <th>description</th>\n",
              "      <th>publisher</th>\n",
              "      <th>title</th>\n",
              "      <th>oid</th>\n",
              "      <th>bestsellers_date.numberLong</th>\n",
              "      <th>published_date.numberLong</th>\n",
              "      <th>rank.numberInt</th>\n",
              "      <th>rank_last_week.numberInt</th>\n",
              "      <th>weeks_on_list.numberInt</th>\n",
              "      <th>price.numberDouble</th>\n",
              "    </tr>\n",
              "  </thead>\n",
              "  <tbody>\n",
              "    <tr>\n",
              "      <th>0</th>\n",
              "      <td>http://www.amazon.com/The-Host-Novel-Stephenie...</td>\n",
              "      <td>Stephenie Meyer</td>\n",
              "      <td>Descr: Aliens have taken control of the minds ...</td>\n",
              "      <td>Little, Brown</td>\n",
              "      <td>THE HOST</td>\n",
              "      <td>5b4aa4ead3089013507db18c</td>\n",
              "      <td>2008-05-24 00:00:00</td>\n",
              "      <td>1212883200000</td>\n",
              "      <td>2</td>\n",
              "      <td>1</td>\n",
              "      <td>3</td>\n",
              "      <td>25.99</td>\n",
              "    </tr>\n",
              "    <tr>\n",
              "      <th>1</th>\n",
              "      <td>http://www.amazon.com/Love-Youre-With-Emily-Gi...</td>\n",
              "      <td>Emily Giffin</td>\n",
              "      <td>Descr: A woman's happy marriage is shaken when...</td>\n",
              "      <td>St. Martin's</td>\n",
              "      <td>LOVE THE ONE YOU'RE WITH</td>\n",
              "      <td>5b4aa4ead3089013507db18d</td>\n",
              "      <td>2008-05-24 00:00:00</td>\n",
              "      <td>1212883200000</td>\n",
              "      <td>3</td>\n",
              "      <td>2</td>\n",
              "      <td>2</td>\n",
              "      <td>24.95</td>\n",
              "    </tr>\n",
              "    <tr>\n",
              "      <th>2</th>\n",
              "      <td>http://www.amazon.com/The-Front-Garano-Patrici...</td>\n",
              "      <td>Patricia Cornwell</td>\n",
              "      <td>Descr: A Massachusetts state investigator and ...</td>\n",
              "      <td>Putnam</td>\n",
              "      <td>THE FRONT</td>\n",
              "      <td>5b4aa4ead3089013507db18e</td>\n",
              "      <td>2008-05-24 00:00:00</td>\n",
              "      <td>1212883200000</td>\n",
              "      <td>4</td>\n",
              "      <td>0</td>\n",
              "      <td>1</td>\n",
              "      <td>22.95</td>\n",
              "    </tr>\n",
              "    <tr>\n",
              "      <th>3</th>\n",
              "      <td>http://www.amazon.com/Snuff-Chuck-Palahniuk/dp...</td>\n",
              "      <td>Chuck Palahniuk</td>\n",
              "      <td>Descr: An aging porn queens aims to cap her ca...</td>\n",
              "      <td>Doubleday</td>\n",
              "      <td>SNUFF</td>\n",
              "      <td>5b4aa4ead3089013507db18f</td>\n",
              "      <td>2008-05-24 00:00:00</td>\n",
              "      <td>1212883200000</td>\n",
              "      <td>5</td>\n",
              "      <td>0</td>\n",
              "      <td>1</td>\n",
              "      <td>24.95</td>\n",
              "    </tr>\n",
              "    <tr>\n",
              "      <th>5</th>\n",
              "      <td>http://www.amazon.com/Phantom-Prey-John-Sandfo...</td>\n",
              "      <td>John Sandford</td>\n",
              "      <td>Descr: The Minneapolis detective Lucas Davenpo...</td>\n",
              "      <td>Putnam</td>\n",
              "      <td>PHANTOM PREY</td>\n",
              "      <td>5b4aa4ead3089013507db191</td>\n",
              "      <td>2008-05-24 00:00:00</td>\n",
              "      <td>1212883200000</td>\n",
              "      <td>7</td>\n",
              "      <td>4</td>\n",
              "      <td>3</td>\n",
              "      <td>26.95</td>\n",
              "    </tr>\n",
              "  </tbody>\n",
              "</table>\n",
              "</div>\n",
              "    <div class=\"colab-df-buttons\">\n",
              "\n",
              "  <div class=\"colab-df-container\">\n",
              "    <button class=\"colab-df-convert\" onclick=\"convertToInteractive('df-46faca07-71a2-45bb-b1a7-a1183361a8f3')\"\n",
              "            title=\"Convert this dataframe to an interactive table.\"\n",
              "            style=\"display:none;\">\n",
              "\n",
              "  <svg xmlns=\"http://www.w3.org/2000/svg\" height=\"24px\" viewBox=\"0 -960 960 960\">\n",
              "    <path d=\"M120-120v-720h720v720H120Zm60-500h600v-160H180v160Zm220 220h160v-160H400v160Zm0 220h160v-160H400v160ZM180-400h160v-160H180v160Zm440 0h160v-160H620v160ZM180-180h160v-160H180v160Zm440 0h160v-160H620v160Z\"/>\n",
              "  </svg>\n",
              "    </button>\n",
              "\n",
              "  <style>\n",
              "    .colab-df-container {\n",
              "      display:flex;\n",
              "      gap: 12px;\n",
              "    }\n",
              "\n",
              "    .colab-df-convert {\n",
              "      background-color: #E8F0FE;\n",
              "      border: none;\n",
              "      border-radius: 50%;\n",
              "      cursor: pointer;\n",
              "      display: none;\n",
              "      fill: #1967D2;\n",
              "      height: 32px;\n",
              "      padding: 0 0 0 0;\n",
              "      width: 32px;\n",
              "    }\n",
              "\n",
              "    .colab-df-convert:hover {\n",
              "      background-color: #E2EBFA;\n",
              "      box-shadow: 0px 1px 2px rgba(60, 64, 67, 0.3), 0px 1px 3px 1px rgba(60, 64, 67, 0.15);\n",
              "      fill: #174EA6;\n",
              "    }\n",
              "\n",
              "    .colab-df-buttons div {\n",
              "      margin-bottom: 4px;\n",
              "    }\n",
              "\n",
              "    [theme=dark] .colab-df-convert {\n",
              "      background-color: #3B4455;\n",
              "      fill: #D2E3FC;\n",
              "    }\n",
              "\n",
              "    [theme=dark] .colab-df-convert:hover {\n",
              "      background-color: #434B5C;\n",
              "      box-shadow: 0px 1px 3px 1px rgba(0, 0, 0, 0.15);\n",
              "      filter: drop-shadow(0px 1px 2px rgba(0, 0, 0, 0.3));\n",
              "      fill: #FFFFFF;\n",
              "    }\n",
              "  </style>\n",
              "\n",
              "    <script>\n",
              "      const buttonEl =\n",
              "        document.querySelector('#df-46faca07-71a2-45bb-b1a7-a1183361a8f3 button.colab-df-convert');\n",
              "      buttonEl.style.display =\n",
              "        google.colab.kernel.accessAllowed ? 'block' : 'none';\n",
              "\n",
              "      async function convertToInteractive(key) {\n",
              "        const element = document.querySelector('#df-46faca07-71a2-45bb-b1a7-a1183361a8f3');\n",
              "        const dataTable =\n",
              "          await google.colab.kernel.invokeFunction('convertToInteractive',\n",
              "                                                    [key], {});\n",
              "        if (!dataTable) return;\n",
              "\n",
              "        const docLinkHtml = 'Like what you see? Visit the ' +\n",
              "          '<a target=\"_blank\" href=https://colab.research.google.com/notebooks/data_table.ipynb>data table notebook</a>'\n",
              "          + ' to learn more about interactive tables.';\n",
              "        element.innerHTML = '';\n",
              "        dataTable['output_type'] = 'display_data';\n",
              "        await google.colab.output.renderOutput(dataTable, element);\n",
              "        const docLink = document.createElement('div');\n",
              "        docLink.innerHTML = docLinkHtml;\n",
              "        element.appendChild(docLink);\n",
              "      }\n",
              "    </script>\n",
              "  </div>\n",
              "\n",
              "\n",
              "<div id=\"df-b2aaa8be-8831-4aa8-ad03-dcb24af05f6c\">\n",
              "  <button class=\"colab-df-quickchart\" onclick=\"quickchart('df-b2aaa8be-8831-4aa8-ad03-dcb24af05f6c')\"\n",
              "            title=\"Suggest charts\"\n",
              "            style=\"display:none;\">\n",
              "\n",
              "<svg xmlns=\"http://www.w3.org/2000/svg\" height=\"24px\"viewBox=\"0 0 24 24\"\n",
              "     width=\"24px\">\n",
              "    <g>\n",
              "        <path d=\"M19 3H5c-1.1 0-2 .9-2 2v14c0 1.1.9 2 2 2h14c1.1 0 2-.9 2-2V5c0-1.1-.9-2-2-2zM9 17H7v-7h2v7zm4 0h-2V7h2v10zm4 0h-2v-4h2v4z\"/>\n",
              "    </g>\n",
              "</svg>\n",
              "  </button>\n",
              "\n",
              "<style>\n",
              "  .colab-df-quickchart {\n",
              "      --bg-color: #E8F0FE;\n",
              "      --fill-color: #1967D2;\n",
              "      --hover-bg-color: #E2EBFA;\n",
              "      --hover-fill-color: #174EA6;\n",
              "      --disabled-fill-color: #AAA;\n",
              "      --disabled-bg-color: #DDD;\n",
              "  }\n",
              "\n",
              "  [theme=dark] .colab-df-quickchart {\n",
              "      --bg-color: #3B4455;\n",
              "      --fill-color: #D2E3FC;\n",
              "      --hover-bg-color: #434B5C;\n",
              "      --hover-fill-color: #FFFFFF;\n",
              "      --disabled-bg-color: #3B4455;\n",
              "      --disabled-fill-color: #666;\n",
              "  }\n",
              "\n",
              "  .colab-df-quickchart {\n",
              "    background-color: var(--bg-color);\n",
              "    border: none;\n",
              "    border-radius: 50%;\n",
              "    cursor: pointer;\n",
              "    display: none;\n",
              "    fill: var(--fill-color);\n",
              "    height: 32px;\n",
              "    padding: 0;\n",
              "    width: 32px;\n",
              "  }\n",
              "\n",
              "  .colab-df-quickchart:hover {\n",
              "    background-color: var(--hover-bg-color);\n",
              "    box-shadow: 0 1px 2px rgba(60, 64, 67, 0.3), 0 1px 3px 1px rgba(60, 64, 67, 0.15);\n",
              "    fill: var(--button-hover-fill-color);\n",
              "  }\n",
              "\n",
              "  .colab-df-quickchart-complete:disabled,\n",
              "  .colab-df-quickchart-complete:disabled:hover {\n",
              "    background-color: var(--disabled-bg-color);\n",
              "    fill: var(--disabled-fill-color);\n",
              "    box-shadow: none;\n",
              "  }\n",
              "\n",
              "  .colab-df-spinner {\n",
              "    border: 2px solid var(--fill-color);\n",
              "    border-color: transparent;\n",
              "    border-bottom-color: var(--fill-color);\n",
              "    animation:\n",
              "      spin 1s steps(1) infinite;\n",
              "  }\n",
              "\n",
              "  @keyframes spin {\n",
              "    0% {\n",
              "      border-color: transparent;\n",
              "      border-bottom-color: var(--fill-color);\n",
              "      border-left-color: var(--fill-color);\n",
              "    }\n",
              "    20% {\n",
              "      border-color: transparent;\n",
              "      border-left-color: var(--fill-color);\n",
              "      border-top-color: var(--fill-color);\n",
              "    }\n",
              "    30% {\n",
              "      border-color: transparent;\n",
              "      border-left-color: var(--fill-color);\n",
              "      border-top-color: var(--fill-color);\n",
              "      border-right-color: var(--fill-color);\n",
              "    }\n",
              "    40% {\n",
              "      border-color: transparent;\n",
              "      border-right-color: var(--fill-color);\n",
              "      border-top-color: var(--fill-color);\n",
              "    }\n",
              "    60% {\n",
              "      border-color: transparent;\n",
              "      border-right-color: var(--fill-color);\n",
              "    }\n",
              "    80% {\n",
              "      border-color: transparent;\n",
              "      border-right-color: var(--fill-color);\n",
              "      border-bottom-color: var(--fill-color);\n",
              "    }\n",
              "    90% {\n",
              "      border-color: transparent;\n",
              "      border-bottom-color: var(--fill-color);\n",
              "    }\n",
              "  }\n",
              "</style>\n",
              "\n",
              "  <script>\n",
              "    async function quickchart(key) {\n",
              "      const quickchartButtonEl =\n",
              "        document.querySelector('#' + key + ' button');\n",
              "      quickchartButtonEl.disabled = true;  // To prevent multiple clicks.\n",
              "      quickchartButtonEl.classList.add('colab-df-spinner');\n",
              "      try {\n",
              "        const charts = await google.colab.kernel.invokeFunction(\n",
              "            'suggestCharts', [key], {});\n",
              "      } catch (error) {\n",
              "        console.error('Error during call to suggestCharts:', error);\n",
              "      }\n",
              "      quickchartButtonEl.classList.remove('colab-df-spinner');\n",
              "      quickchartButtonEl.classList.add('colab-df-quickchart-complete');\n",
              "    }\n",
              "    (() => {\n",
              "      let quickchartButtonEl =\n",
              "        document.querySelector('#df-b2aaa8be-8831-4aa8-ad03-dcb24af05f6c button');\n",
              "      quickchartButtonEl.style.display =\n",
              "        google.colab.kernel.accessAllowed ? 'block' : 'none';\n",
              "    })();\n",
              "  </script>\n",
              "</div>\n",
              "\n",
              "    </div>\n",
              "  </div>\n"
            ],
            "application/vnd.google.colaboratory.intrinsic+json": {
              "type": "dataframe",
              "variable_name": "df",
              "summary": "{\n  \"name\": \"df\",\n  \"rows\": 2266,\n  \"fields\": [\n    {\n      \"column\": \"amazon_product_url\",\n      \"properties\": {\n        \"dtype\": \"category\",\n        \"num_unique_values\": 532,\n        \"samples\": [\n          \"http://www.amazon.com/Where-Are-You-Now-Novel/dp/1416566384?tag=NYTBS-20\",\n          \"http://www.amazon.com/Flight-Behavior-Novel-Barbara-Kingsolver-ebook/dp/B007HBY89E?tag=NYTBS-20\",\n          \"http://www.amazon.com/The-Sign-Raymond-Khoury/dp/0525950974?tag=NYTBS-20\"\n        ],\n        \"semantic_type\": \"\",\n        \"description\": \"\"\n      }\n    },\n    {\n      \"column\": \"author\",\n      \"properties\": {\n        \"dtype\": \"category\",\n        \"num_unique_values\": 233,\n        \"samples\": [\n          \"Amanda Quick\",\n          \"David Wong\",\n          \"Meg Wolitzer\"\n        ],\n        \"semantic_type\": \"\",\n        \"description\": \"\"\n      }\n    },\n    {\n      \"column\": \"description\",\n      \"properties\": {\n        \"dtype\": \"category\",\n        \"num_unique_values\": 688,\n        \"samples\": [\n          \"Descr: Detective Thomas Lynley becomes involved when a woman\\u2019s body is found in a London cemetery.     \",\n          \"Descr: A novel about Elizabeth Keckley, who was born a slave, earned her freedom through her dressmaking skill and became a friend of Mary Todd Lincoln; she is a character in the movie \\u201cLincoln.\\u201d     \",\n          \"Descr: \\nAfter the rape and murder of his girlfriend, a distraught young man discovers that he has grown horns.     \"\n        ],\n        \"semantic_type\": \"\",\n        \"description\": \"\"\n      }\n    },\n    {\n      \"column\": \"publisher\",\n      \"properties\": {\n        \"dtype\": \"category\",\n        \"num_unique_values\": 69,\n        \"samples\": [\n          \"Ace\",\n          \"Little, Brown\",\n          \"Tyndale House\"\n        ],\n        \"semantic_type\": \"\",\n        \"description\": \"\"\n      }\n    },\n    {\n      \"column\": \"title\",\n      \"properties\": {\n        \"dtype\": \"category\",\n        \"num_unique_values\": 529,\n        \"samples\": [\n          \"A GATE AT THE STAIRS\",\n          \"PINEAPPLE GRENADE\",\n          \"CARELESS IN RED\"\n        ],\n        \"semantic_type\": \"\",\n        \"description\": \"\"\n      }\n    },\n    {\n      \"column\": \"oid\",\n      \"properties\": {\n        \"dtype\": \"string\",\n        \"num_unique_values\": 2266,\n        \"samples\": [\n          \"5b4aa4ead3089013507db310\",\n          \"5b4aa4ead3089013507db829\",\n          \"5b4aa4ead3089013507dbeb2\"\n        ],\n        \"semantic_type\": \"\",\n        \"description\": \"\"\n      }\n    },\n    {\n      \"column\": \"bestsellers_date.numberLong\",\n      \"properties\": {\n        \"dtype\": \"object\",\n        \"num_unique_values\": 257,\n        \"samples\": [\n          \"2011-07-23 00:00:00\",\n          \"2011-12-17 00:00:00\",\n          \"2009-12-19 00:00:00\"\n        ],\n        \"semantic_type\": \"\",\n        \"description\": \"\"\n      }\n    },\n    {\n      \"column\": \"published_date.numberLong\",\n      \"properties\": {\n        \"dtype\": \"number\",\n        \"std\": 44030538583,\n        \"min\": 1212883200000,\n        \"max\": 1367712000000,\n        \"num_unique_values\": 257,\n        \"samples\": [\n          1312675200000,\n          1325376000000,\n          1262476800000\n        ],\n        \"semantic_type\": \"\",\n        \"description\": \"\"\n      }\n    },\n    {\n      \"column\": \"rank.numberInt\",\n      \"properties\": {\n        \"dtype\": \"category\",\n        \"num_unique_values\": 17,\n        \"samples\": [\n          \"2\",\n          \"3\",\n          \"8\"\n        ],\n        \"semantic_type\": \"\",\n        \"description\": \"\"\n      }\n    },\n    {\n      \"column\": \"rank_last_week.numberInt\",\n      \"properties\": {\n        \"dtype\": \"number\",\n        \"std\": 4,\n        \"min\": 0,\n        \"max\": 16,\n        \"num_unique_values\": 17,\n        \"samples\": [\n          1,\n          2,\n          8\n        ],\n        \"semantic_type\": \"\",\n        \"description\": \"\"\n      }\n    },\n    {\n      \"column\": \"weeks_on_list.numberInt\",\n      \"properties\": {\n        \"dtype\": \"number\",\n        \"std\": 15,\n        \"min\": 1,\n        \"max\": 108,\n        \"num_unique_values\": 108,\n        \"samples\": [\n          78,\n          11,\n          4\n        ],\n        \"semantic_type\": \"\",\n        \"description\": \"\"\n      }\n    },\n    {\n      \"column\": \"price.numberDouble\",\n      \"properties\": {\n        \"dtype\": \"number\",\n        \"std\": 1.679919822768794,\n        \"min\": 14.99,\n        \"max\": 30.5,\n        \"num_unique_values\": 21,\n        \"samples\": [\n          25.99,\n          14.99,\n          23.99\n        ],\n        \"semantic_type\": \"\",\n        \"description\": \"\"\n      }\n    }\n  ]\n}"
            }
          },
          "metadata": {},
          "execution_count": 3
        }
      ],
      "source": [
        "# Cargamos nuestro archivo a un dataframe\n",
        "df = pd.read_csv('/content/drive/MyDrive/BEDU/ProcesamientoDatos/Datasets/new_york_times_bestsellers-dirty.csv', index_col=0)\n",
        "\n",
        "df.head()"
      ]
    },
    {
      "cell_type": "markdown",
      "metadata": {
        "id": "ylvr9FAfj4Hd"
      },
      "source": [
        "Digamos que queremos transformar los datos de nuestra columna 'rank.numberInt' para que el 'rankink' esté dado por letras, no por números.\n",
        "\n",
        "Sabemos que hay un valor 'No Rank' en esa columna, así que nuestro diccionario de conversión podría verse así:"
      ]
    },
    {
      "cell_type": "code",
      "execution_count": 4,
      "metadata": {
        "id": "cvSL_Bgbj4He"
      },
      "outputs": [],
      "source": [
        "# Creamos un diccionario\n",
        "int_a_letra = {\n",
        "    '1': 'a',\n",
        "    '2': 'b',\n",
        "    '3': 'c',\n",
        "    '4': 'd',\n",
        "    '5': 'e',\n",
        "    '6': 'f',\n",
        "    '7': 'g',\n",
        "    '8': 'h',\n",
        "    '9': 'i',\n",
        "    '10': 'j',\n",
        "    '11': 'k',\n",
        "    '12': 'l',\n",
        "    '13': 'm',\n",
        "    '14': 'n',\n",
        "    '15': 'o',\n",
        "    '16': 'p',\n",
        "    'No Rank': 'z'\n",
        "}"
      ]
    },
    {
      "cell_type": "markdown",
      "metadata": {
        "id": "EApuZFyqj4He"
      },
      "source": [
        "Lo aplicamos usando `map`:"
      ]
    },
    {
      "cell_type": "code",
      "source": [
        "# Vemos el estado original de la columna\n",
        "df['rank.numberInt']"
      ],
      "metadata": {
        "colab": {
          "base_uri": "https://localhost:8080/"
        },
        "id": "_oYylW5flSfy",
        "outputId": "c0125b62-bd00-4960-ca3f-1ef2f2480a52"
      },
      "execution_count": 5,
      "outputs": [
        {
          "output_type": "execute_result",
          "data": {
            "text/plain": [
              "0        2\n",
              "1        3\n",
              "2        4\n",
              "3        5\n",
              "5        7\n",
              "        ..\n",
              "3027     8\n",
              "3028     9\n",
              "3029    11\n",
              "3030    13\n",
              "3031    14\n",
              "Name: rank.numberInt, Length: 2266, dtype: object"
            ]
          },
          "metadata": {},
          "execution_count": 5
        }
      ]
    },
    {
      "cell_type": "code",
      "execution_count": 6,
      "metadata": {
        "colab": {
          "base_uri": "https://localhost:8080/"
        },
        "id": "Mf44lR8Uj4Hf",
        "outputId": "59fa3cb5-14d5-480a-e531-f5e0dc6e207f"
      },
      "outputs": [
        {
          "output_type": "execute_result",
          "data": {
            "text/plain": [
              "0     b\n",
              "1     c\n",
              "2     d\n",
              "3     e\n",
              "5     g\n",
              "6     h\n",
              "7     i\n",
              "8     j\n",
              "9     l\n",
              "10    m\n",
              "11    n\n",
              "13    z\n",
              "14    d\n",
              "16    f\n",
              "17    g\n",
              "18    h\n",
              "19    i\n",
              "20    j\n",
              "21    k\n",
              "22    l\n",
              "Name: rank.numberInt, dtype: object"
            ]
          },
          "metadata": {},
          "execution_count": 6
        }
      ],
      "source": [
        "# Usamos map para reemplazar los numeros por letras\n",
        "df['rank.numberInt'].map(int_a_letra).head(20)"
      ]
    },
    {
      "cell_type": "markdown",
      "metadata": {
        "id": "MiktkB9yj4Hf"
      },
      "source": [
        "También podemos usar una función para `map`. Por ejemplo esta función que realiza una correspondencia entre el precio de un libro y su representación en `string`:"
      ]
    },
    {
      "cell_type": "code",
      "execution_count": 7,
      "metadata": {
        "id": "J1ldYYkRj4Hg"
      },
      "outputs": [],
      "source": [
        "# Creamos una funcion para formatear la informacion de la columna\n",
        "def double_to_money(value):\n",
        "\n",
        "    return f'${value} USD'"
      ]
    },
    {
      "cell_type": "code",
      "execution_count": 9,
      "metadata": {
        "colab": {
          "base_uri": "https://localhost:8080/"
        },
        "id": "-rAAzquoj4Hg",
        "outputId": "993dfeea-2fac-4eba-b9db-f21c849f1596"
      },
      "outputs": [
        {
          "output_type": "execute_result",
          "data": {
            "text/plain": [
              "0       $25.99 USD\n",
              "1       $24.95 USD\n",
              "2       $22.95 USD\n",
              "3       $24.95 USD\n",
              "5       $26.95 USD\n",
              "           ...    \n",
              "3027    $26.95 USD\n",
              "3028    $27.95 USD\n",
              "3029    $27.95 USD\n",
              "3030    $26.95 USD\n",
              "3031    $28.99 USD\n",
              "Name: price.numberDouble, Length: 2266, dtype: object"
            ]
          },
          "metadata": {},
          "execution_count": 9
        }
      ],
      "source": [
        "# Ejemplo de map usando una funcion\n",
        "df['price.numberDouble'].map(double_to_money)"
      ]
    },
    {
      "cell_type": "markdown",
      "metadata": {
        "id": "oYgwkixQj4Hg"
      },
      "source": [
        "Lo único que tienes que pensar al usar `map` es: \"¿Este dato tiene una correspondencia con otro dato que pueda representar con un diccionario o una función?\". Y listo."
      ]
    },
    {
      "cell_type": "code",
      "execution_count": null,
      "metadata": {
        "id": "baZvDHPKj4Hh"
      },
      "outputs": [],
      "source": []
    }
  ],
  "metadata": {
    "kernelspec": {
      "display_name": "Python (data_science)",
      "language": "python",
      "name": "data_science"
    },
    "language_info": {
      "codemirror_mode": {
        "name": "ipython",
        "version": 3
      },
      "file_extension": ".py",
      "mimetype": "text/x-python",
      "name": "python",
      "nbconvert_exporter": "python",
      "pygments_lexer": "ipython3",
      "version": "3.8.1"
    },
    "colab": {
      "provenance": [],
      "include_colab_link": true
    }
  },
  "nbformat": 4,
  "nbformat_minor": 0
}